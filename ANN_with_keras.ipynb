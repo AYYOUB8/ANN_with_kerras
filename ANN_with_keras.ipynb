{
  "cells": [
    {
      "cell_type": "markdown",
      "metadata": {
        "id": "GJu4pYX8S-at"
      },
      "source": [
        "# Artificial Neural Networks with Keras"
      ]
    },
    {
      "cell_type": "markdown",
      "metadata": {
        "id": "K6GBdenRS-a1"
      },
      "source": [
        "<table align=\"left\">\n",
        "  <td>\n",
        "    <a target=\"_blank\" href=\"https://colab.research.google.com/github/AbdelMahm/INPT-2020/blob/master/Notebooks_DL/ANN_with_keras.ipynb\"><img src=\"https://colab.research.google.com/img/colab_favicon_256px.png\" />Run in Google Colab</a>\n",
        "  </td>\n",
        "</table>"
      ]
    },
    {
      "cell_type": "markdown",
      "metadata": {
        "id": "oHrLbv_QS-a2"
      },
      "source": [
        "# Setup"
      ]
    },
    {
      "cell_type": "code",
      "execution_count": null,
      "metadata": {
        "id": "66n8o7LQS-a3"
      },
      "outputs": [],
      "source": [
        "Firstly, let's import a few common modules, ensure MatplotLib plots figures inline and prepare a function to save the figures. We also check that Python 3.5 or later is installed (although Python 2.x may work, it is deprecated so we strongly recommend you use Python 3 instead), as well as Scikit-Learn ≥0.20 and TensorFlow ≥2.0."
      ]
    },
    {
      "cell_type": "code",
      "execution_count": null,
      "metadata": {
        "id": "lBIPyJDZS-a5"
      },
      "outputs": [],
      "source": [
        "# TensorFlow ≥2.0 is required\n",
        "import tensorflow as tf\n",
        "\n",
        "# Common imports\n",
        "import numpy as np\n",
        "import os\n",
        "\n",
        "# to make this notebook's output stable across runs\n",
        "np.random.seed(42)\n",
        "\n",
        "# To plot pretty figures\n",
        "%matplotlib inline\n",
        "import matplotlib as mpl\n",
        "import matplotlib.pyplot as plt\n",
        "mpl.rc('axes', labelsize=14)\n",
        "mpl.rc('xtick', labelsize=12)\n",
        "mpl.rc('ytick', labelsize=12)\n",
        "\n",
        "# Ignore useless warnings (see SciPy issue #5998)\n",
        "import warnings\n",
        "warnings.filterwarnings(action=\"ignore\", message=\"^internal gelsd\")"
      ]
    },
    {
      "cell_type": "markdown",
      "metadata": {
        "id": "9cZj8uotS-a7"
      },
      "source": [
        "# Building an Image Classifier"
      ]
    },
    {
      "cell_type": "markdown",
      "metadata": {
        "id": "Nv51fZK0S-a7"
      },
      "source": [
        "First let's import TensorFlow and Keras."
      ]
    },
    {
      "cell_type": "code",
      "execution_count": null,
      "metadata": {
        "collapsed": true,
        "id": "Dzq4jfSVS-a8"
      },
      "outputs": [],
      "source": [
        "from tensorflow import keras"
      ]
    },
    {
      "cell_type": "code",
      "execution_count": null,
      "metadata": {
        "id": "Y4_v-J2fS-a-",
        "outputId": "7884ef13-143c-4112-880b-bcf52bc166f0",
        "colab": {
          "base_uri": "https://localhost:8080/",
          "height": 35
        }
      },
      "outputs": [
        {
          "output_type": "execute_result",
          "data": {
            "text/plain": [
              "'2.8.0'"
            ],
            "application/vnd.google.colaboratory.intrinsic+json": {
              "type": "string"
            }
          },
          "metadata": {},
          "execution_count": 5
        }
      ],
      "source": [
        "tf.__version__"
      ]
    },
    {
      "cell_type": "markdown",
      "metadata": {
        "id": "fAw8ffrbS-a_"
      },
      "source": [
        "Let's start by loading the fashion MNIST dataset. Keras has a number of functions to load popular datasets in `keras.datasets`. The dataset is already split for you between a training set and a test set, but it can be useful to split the training set further to have a validation set:"
      ]
    },
    {
      "cell_type": "code",
      "execution_count": null,
      "metadata": {
        "collapsed": true,
        "id": "WkSnh97cS-bA",
        "outputId": "f960dd8c-35c5-4011-f82d-d1fdf8462850",
        "colab": {
          "base_uri": "https://localhost:8080/"
        }
      },
      "outputs": [
        {
          "output_type": "stream",
          "name": "stdout",
          "text": [
            "Downloading data from https://storage.googleapis.com/tensorflow/tf-keras-datasets/train-labels-idx1-ubyte.gz\n",
            "32768/29515 [=================================] - 0s 0us/step\n",
            "40960/29515 [=========================================] - 0s 0us/step\n",
            "Downloading data from https://storage.googleapis.com/tensorflow/tf-keras-datasets/train-images-idx3-ubyte.gz\n",
            "26427392/26421880 [==============================] - 1s 0us/step\n",
            "26435584/26421880 [==============================] - 1s 0us/step\n",
            "Downloading data from https://storage.googleapis.com/tensorflow/tf-keras-datasets/t10k-labels-idx1-ubyte.gz\n",
            "16384/5148 [===============================================================================================] - 0s 0us/step\n",
            "Downloading data from https://storage.googleapis.com/tensorflow/tf-keras-datasets/t10k-images-idx3-ubyte.gz\n",
            "4423680/4422102 [==============================] - 0s 0us/step\n",
            "4431872/4422102 [==============================] - 0s 0us/step\n"
          ]
        }
      ],
      "source": [
        "fashion_mnist = keras.datasets.fashion_mnist\n",
        "(X_train_full, y_train_full), (X_test, y_test) = fashion_mnist.load_data()"
      ]
    },
    {
      "cell_type": "markdown",
      "metadata": {
        "id": "Re6TJGPxS-bA"
      },
      "source": [
        "The training set contains 60,000 grayscale images, each 28x28 pixels:"
      ]
    },
    {
      "cell_type": "code",
      "execution_count": null,
      "metadata": {
        "id": "eikGb-FGS-bB",
        "outputId": "0c0059a3-73c9-46e5-926f-9a04b2d14cb7",
        "colab": {
          "base_uri": "https://localhost:8080/"
        }
      },
      "outputs": [
        {
          "output_type": "execute_result",
          "data": {
            "text/plain": [
              "(60000, 28, 28)"
            ]
          },
          "metadata": {},
          "execution_count": 8
        }
      ],
      "source": [
        "X_train_full.shape"
      ]
    },
    {
      "cell_type": "markdown",
      "metadata": {
        "id": "WxFCXA0-S-bC"
      },
      "source": [
        "Each pixel intensity is represented as a byte (0 to 255):"
      ]
    },
    {
      "cell_type": "code",
      "execution_count": null,
      "metadata": {
        "id": "8LN6pYaeS-bC",
        "outputId": "9f95b2cc-84c5-408e-c714-bf5f929c2806",
        "colab": {
          "base_uri": "https://localhost:8080/"
        }
      },
      "outputs": [
        {
          "output_type": "execute_result",
          "data": {
            "text/plain": [
              "dtype('uint8')"
            ]
          },
          "metadata": {},
          "execution_count": 9
        }
      ],
      "source": [
        "X_train_full.dtype"
      ]
    },
    {
      "cell_type": "markdown",
      "metadata": {
        "id": "fTkqAZkqS-bD"
      },
      "source": [
        "Let's split the full training set into a validation set and a (smaller) training set. We also scale the pixel intensities down to the 0-1 range and convert them to floats, by dividing by 255."
      ]
    },
    {
      "cell_type": "code",
      "execution_count": null,
      "metadata": {
        "collapsed": true,
        "id": "Tpsybm4JS-bD"
      },
      "outputs": [],
      "source": [
        "X_valid, X_train = X_train_full[:5000] / 255., X_train_full[5000:] / 255.\n",
        "y_valid, y_train = y_train_full[:5000], y_train_full[5000:]\n",
        "X_test = X_test / 255."
      ]
    },
    {
      "cell_type": "markdown",
      "metadata": {
        "id": "uiGxiY21S-bE"
      },
      "source": [
        "You can plot an image using Matplotlib's `imshow()` function, with a `'binary'`\n",
        " color map:"
      ]
    },
    {
      "cell_type": "code",
      "execution_count": null,
      "metadata": {
        "id": "TkTL96hgS-bF",
        "outputId": "95bd0415-2a03-45b2-a44e-604cbbf29690",
        "colab": {
          "base_uri": "https://localhost:8080/",
          "height": 248
        }
      },
      "outputs": [
        {
          "output_type": "display_data",
          "data": {
            "text/plain": [
              "<Figure size 432x288 with 1 Axes>"
            ],
            "image/png": "[encoded data removed]"
          },
          "metadata": {
            "needs_background": "light"
          }
        }
      ],
      "source": [
        "plt.imshow(X_train[0], cmap=\"binary\")\n",
        "plt.axis('off')\n",
        "plt.show()"
      ]
    },
    {
      "cell_type": "markdown",
      "metadata": {
        "id": "huXxoGIXS-bF"
      },
      "source": [
        "The labels are the class IDs (represented as uint8), from 0 to 9:"
      ]
    },
    {
      "cell_type": "code",
      "execution_count": null,
      "metadata": {
        "id": "CfDWxQL-S-bG",
        "outputId": "45026f0e-dfcd-4d04-9bdf-eee0ca5b259d",
        "colab": {
          "base_uri": "https://localhost:8080/"
        }
      },
      "outputs": [
        {
          "output_type": "execute_result",
          "data": {
            "text/plain": [
              "array([4, 0, 7, ..., 3, 0, 5], dtype=uint8)"
            ]
          },
          "metadata": {},
          "execution_count": 12
        }
      ],
      "source": [
        "y_train"
      ]
    },
    {
      "cell_type": "markdown",
      "metadata": {
        "id": "NGoaf-0FS-bG"
      },
      "source": [
        "Here are the corresponding class names:"
      ]
    },
    {
      "cell_type": "code",
      "execution_count": null,
      "metadata": {
        "collapsed": true,
        "id": "o3Cy2uNlS-bG"
      },
      "outputs": [],
      "source": [
        "class_names = [\"T-shirt/top\", \"Trouser\", \"Pullover\", \"Dress\", \"Coat\",\n",
        "               \"Sandal\", \"Shirt\", \"Sneaker\", \"Bag\", \"Ankle boot\"]"
      ]
    },
    {
      "cell_type": "markdown",
      "metadata": {
        "id": "sNQdzKw3S-bH"
      },
      "source": [
        "So the first image in the training set is a coat:"
      ]
    },
    {
      "cell_type": "code",
      "execution_count": null,
      "metadata": {
        "id": "pBzo-vq7S-bH",
        "outputId": "9c4e13fe-24a3-48df-fe0c-2bd4c9228c62",
        "colab": {
          "base_uri": "https://localhost:8080/",
          "height": 35
        }
      },
      "outputs": [
        {
          "output_type": "execute_result",
          "data": {
            "text/plain": [
              "'Coat'"
            ],
            "application/vnd.google.colaboratory.intrinsic+json": {
              "type": "string"
            }
          },
          "metadata": {},
          "execution_count": 14
        }
      ],
      "source": [
        "class_names[y_train[0]]"
      ]
    },
    {
      "cell_type": "markdown",
      "metadata": {
        "id": "Cwi-eX18S-bI"
      },
      "source": [
        "The validation set contains 5,000 images, and the test set contains 10,000 images:"
      ]
    },
    {
      "cell_type": "code",
      "execution_count": null,
      "metadata": {
        "id": "Yf-P550wS-bI",
        "outputId": "6f93383d-28d5-42f2-ea3e-edecef9659b7",
        "colab": {
          "base_uri": "https://localhost:8080/"
        }
      },
      "outputs": [
        {
          "output_type": "execute_result",
          "data": {
            "text/plain": [
              "(5000, 28, 28)"
            ]
          },
          "metadata": {},
          "execution_count": 15
        }
      ],
      "source": [
        "X_valid.shape"
      ]
    },
    {
      "cell_type": "code",
      "execution_count": null,
      "metadata": {
        "id": "vaZPPakFS-bI",
        "outputId": "397610dc-58be-4f8f-83aa-7356d13080f9",
        "colab": {
          "base_uri": "https://localhost:8080/"
        }
      },
      "outputs": [
        {
          "output_type": "execute_result",
          "data": {
            "text/plain": [
              "(10000, 28, 28)"
            ]
          },
          "metadata": {},
          "execution_count": 16
        }
      ],
      "source": [
        "X_test.shape"
      ]
    },
    {
      "cell_type": "markdown",
      "metadata": {
        "id": "H1vqUmQ0S-bJ"
      },
      "source": [
        "Let's take a look at a sample of the images in the dataset:"
      ]
    },
    {
      "cell_type": "code",
      "execution_count": null,
      "metadata": {
        "id": "C2dKvPpcS-bJ",
        "outputId": "b364486a-fe80-467c-ea4a-fe1d61737300",
        "colab": {
          "base_uri": "https://localhost:8080/",
          "height": 308
        }
      },
      "outputs": [
        {
          "output_type": "display_data",
          "data": {
            "text/plain": [
              "<Figure size 864x345.6 with 40 Axes>"
            ],
            "image/png": "[encoded data removed]"
          },
          "metadata": {
            "needs_background": "light"
          }
        }
      ],
      "source": [
        "n_rows = 4\n",
        "n_cols = 10\n",
        "plt.figure(figsize=(n_cols * 1.2, n_rows * 1.2))\n",
        "for row in range(n_rows):\n",
        "    for col in range(n_cols):\n",
        "        index = n_cols * row + col\n",
        "        plt.subplot(n_rows, n_cols, index + 1)\n",
        "        plt.imshow(X_train[index], cmap=\"binary\", interpolation=\"nearest\")\n",
        "        plt.axis('off')\n",
        "        plt.title(class_names[y_train[index]], fontsize=12)\n",
        "plt.subplots_adjust(wspace=0.2, hspace=0.5)\n",
        "plt.show()"
      ]
    },
    {
      "cell_type": "markdown",
      "metadata": {
        "id": "Zph1QGDoS-bK"
      },
      "source": [
        "## Construct a Model"
      ]
    },
    {
      "cell_type": "code",
      "execution_count": null,
      "metadata": {
        "collapsed": true,
        "id": "9VZuKE-rS-bK"
      },
      "outputs": [],
      "source": [
        "model = keras.models.Sequential()\n",
        "model.add(keras.layers.Flatten(input_shape=[28, 28]))\n",
        "model.add(keras.layers.Dense(300, activation=\"relu\"))\n",
        "model.add(keras.layers.Dense(100, activation=\"relu\"))\n",
        "model.add(keras.layers.Dense(10, activation=\"softmax\"))"
      ]
    },
    {
      "cell_type": "code",
      "execution_count": null,
      "metadata": {
        "collapsed": true,
        "id": "8_DaJh0YS-bK"
      },
      "outputs": [],
      "source": [
        "keras.backend.clear_session()\n",
        "np.random.seed(42)"
      ]
    },
    {
      "cell_type": "markdown",
      "metadata": {
        "id": "IHzRkxDFS-bK"
      },
      "source": [
        "### or using the folowing method"
      ]
    },
    {
      "cell_type": "code",
      "execution_count": null,
      "metadata": {
        "collapsed": true,
        "id": "pcGYvT1gS-bL"
      },
      "outputs": [],
      "source": [
        "model = keras.models.Sequential([\n",
        "    keras.layers.Flatten(input_shape=[28, 28]),\n",
        "    keras.layers.Dense(300, activation=\"relu\"),\n",
        "    keras.layers.Dense(100, activation=\"relu\"),\n",
        "    keras.layers.Dense(10, activation=\"softmax\")\n",
        "])"
      ]
    },
    {
      "cell_type": "code",
      "execution_count": null,
      "metadata": {
        "id": "Fs1T2FMWS-bL",
        "colab": {
          "base_uri": "https://localhost:8080/"
        },
        "outputId": "2ac227b9-9c59-440b-b31f-3f8634ba8533"
      },
      "outputs": [
        {
          "output_type": "execute_result",
          "data": {
            "text/plain": [
              "[<keras.layers.core.flatten.Flatten at 0x7fab38b66a90>,\n",
              " <keras.layers.core.dense.Dense at 0x7fab37eced90>,\n",
              " <keras.layers.core.dense.Dense at 0x7fab38b66990>,\n",
              " <keras.layers.core.dense.Dense at 0x7fab38b49f90>]"
            ]
          },
          "metadata": {},
          "execution_count": 21
        }
      ],
      "source": [
        "model.layers"
      ]
    },
    {
      "cell_type": "code",
      "execution_count": null,
      "metadata": {
        "id": "G1Qu5an1S-bM",
        "colab": {
          "base_uri": "https://localhost:8080/"
        },
        "outputId": "98c32c44-8961-41a4-97ea-aada4a33af7c"
      },
      "outputs": [
        {
          "output_type": "stream",
          "name": "stdout",
          "text": [
            "Model: \"sequential\"\n",
            "_________________________________________________________________\n",
            " Layer (type)                Output Shape              Param #   \n",
            "=================================================================\n",
            " flatten (Flatten)           (None, 784)               0         \n",
            "                                                                 \n",
            " dense (Dense)               (None, 300)               235500    \n",
            "                                                                 \n",
            " dense_1 (Dense)             (None, 100)               30100     \n",
            "                                                                 \n",
            " dense_2 (Dense)             (None, 10)                1010      \n",
            "                                                                 \n",
            "=================================================================\n",
            "Total params: 266,610\n",
            "Trainable params: 266,610\n",
            "Non-trainable params: 0\n",
            "_________________________________________________________________\n"
          ]
        }
      ],
      "source": [
        "model.summary()"
      ]
    },
    {
      "cell_type": "code",
      "execution_count": null,
      "metadata": {
        "collapsed": true,
        "id": "lfeO0rqFS-bM"
      },
      "outputs": [],
      "source": [
        "#keras.utils.plot_model(model, \"my_mnist_model.png\", show_shapes=True)"
      ]
    },
    {
      "cell_type": "code",
      "execution_count": null,
      "metadata": {
        "id": "xYBWh5UyS-bM",
        "colab": {
          "base_uri": "https://localhost:8080/",
          "height": 35
        },
        "outputId": "bda736a1-c5e0-409c-bc70-072dfb9810e5"
      },
      "outputs": [
        {
          "output_type": "execute_result",
          "data": {
            "text/plain": [
              "'dense'"
            ],
            "application/vnd.google.colaboratory.intrinsic+json": {
              "type": "string"
            }
          },
          "metadata": {},
          "execution_count": 24
        }
      ],
      "source": [
        "hidden1 = model.layers[1]\n",
        "hidden1.name"
      ]
    },
    {
      "cell_type": "code",
      "execution_count": null,
      "metadata": {
        "id": "4Nnq7J9SS-bM",
        "colab": {
          "base_uri": "https://localhost:8080/"
        },
        "outputId": "ed2d13f6-1314-4d5a-bb79-d941a7fb7339"
      },
      "outputs": [
        {
          "output_type": "execute_result",
          "data": {
            "text/plain": [
              "True"
            ]
          },
          "metadata": {},
          "execution_count": 25
        }
      ],
      "source": [
        "model.get_layer(hidden1.name) is hidden1"
      ]
    },
    {
      "cell_type": "code",
      "execution_count": null,
      "metadata": {
        "collapsed": true,
        "id": "54CASJozS-bN"
      },
      "outputs": [],
      "source": [
        "weights, biases = hidden1.get_weights()"
      ]
    },
    {
      "cell_type": "code",
      "execution_count": null,
      "metadata": {
        "id": "4TpR-LAPS-bN",
        "colab": {
          "base_uri": "https://localhost:8080/"
        },
        "outputId": "8f0a715c-40d3-4df7-a06b-a0847a7bc541"
      },
      "outputs": [
        {
          "output_type": "execute_result",
          "data": {
            "text/plain": [
              "array([[-0.04027592, -0.03815939, -0.03457739, ..., -0.0220395 ,\n",
              "        -0.03768707,  0.04808785],\n",
              "       [-0.0207916 ,  0.04183336, -0.0531814 , ...,  0.00355804,\n",
              "        -0.03605325, -0.05112766],\n",
              "       [ 0.07152978, -0.01331939,  0.03569436, ..., -0.06532834,\n",
              "        -0.07238536,  0.06502827],\n",
              "       ...,\n",
              "       [-0.01933625,  0.03264941,  0.06862405, ...,  0.01555853,\n",
              "        -0.00390499, -0.04672204],\n",
              "       [ 0.05918828,  0.02407545,  0.04309208, ..., -0.04648394,\n",
              "        -0.04626602,  0.06056498],\n",
              "       [ 0.06387131, -0.0742605 ,  0.03462157, ..., -0.00946505,\n",
              "         0.05098282,  0.02588927]], dtype=float32)"
            ]
          },
          "metadata": {},
          "execution_count": 27
        }
      ],
      "source": [
        "weights"
      ]
    },
    {
      "cell_type": "code",
      "execution_count": null,
      "metadata": {
        "id": "b8LxdYU8S-bN",
        "colab": {
          "base_uri": "https://localhost:8080/"
        },
        "outputId": "8ad7b04a-2d05-456e-edfd-2e2b17ac25f0"
      },
      "outputs": [
        {
          "output_type": "execute_result",
          "data": {
            "text/plain": [
              "(784, 300)"
            ]
          },
          "metadata": {},
          "execution_count": 28
        }
      ],
      "source": [
        "weights.shape"
      ]
    },
    {
      "cell_type": "code",
      "execution_count": null,
      "metadata": {
        "id": "-1Y7EbM4S-bO",
        "colab": {
          "base_uri": "https://localhost:8080/"
        },
        "outputId": "0805b5e2-6fff-49e8-e351-ee56d5e43893"
      },
      "outputs": [
        {
          "output_type": "execute_result",
          "data": {
            "text/plain": [
              "array([0., 0., 0., 0., 0., 0., 0., 0., 0., 0., 0., 0., 0., 0., 0., 0., 0.,\n",
              "       0., 0., 0., 0., 0., 0., 0., 0., 0., 0., 0., 0., 0., 0., 0., 0., 0.,\n",
              "       0., 0., 0., 0., 0., 0., 0., 0., 0., 0., 0., 0., 0., 0., 0., 0., 0.,\n",
              "       0., 0., 0., 0., 0., 0., 0., 0., 0., 0., 0., 0., 0., 0., 0., 0., 0.,\n",
              "       0., 0., 0., 0., 0., 0., 0., 0., 0., 0., 0., 0., 0., 0., 0., 0., 0.,\n",
              "       0., 0., 0., 0., 0., 0., 0., 0., 0., 0., 0., 0., 0., 0., 0., 0., 0.,\n",
              "       0., 0., 0., 0., 0., 0., 0., 0., 0., 0., 0., 0., 0., 0., 0., 0., 0.,\n",
              "       0., 0., 0., 0., 0., 0., 0., 0., 0., 0., 0., 0., 0., 0., 0., 0., 0.,\n",
              "       0., 0., 0., 0., 0., 0., 0., 0., 0., 0., 0., 0., 0., 0., 0., 0., 0.,\n",
              "       0., 0., 0., 0., 0., 0., 0., 0., 0., 0., 0., 0., 0., 0., 0., 0., 0.,\n",
              "       0., 0., 0., 0., 0., 0., 0., 0., 0., 0., 0., 0., 0., 0., 0., 0., 0.,\n",
              "       0., 0., 0., 0., 0., 0., 0., 0., 0., 0., 0., 0., 0., 0., 0., 0., 0.,\n",
              "       0., 0., 0., 0., 0., 0., 0., 0., 0., 0., 0., 0., 0., 0., 0., 0., 0.,\n",
              "       0., 0., 0., 0., 0., 0., 0., 0., 0., 0., 0., 0., 0., 0., 0., 0., 0.,\n",
              "       0., 0., 0., 0., 0., 0., 0., 0., 0., 0., 0., 0., 0., 0., 0., 0., 0.,\n",
              "       0., 0., 0., 0., 0., 0., 0., 0., 0., 0., 0., 0., 0., 0., 0., 0., 0.,\n",
              "       0., 0., 0., 0., 0., 0., 0., 0., 0., 0., 0., 0., 0., 0., 0., 0., 0.,\n",
              "       0., 0., 0., 0., 0., 0., 0., 0., 0., 0., 0.], dtype=float32)"
            ]
          },
          "metadata": {},
          "execution_count": 29
        }
      ],
      "source": [
        "biases"
      ]
    },
    {
      "cell_type": "code",
      "execution_count": null,
      "metadata": {
        "id": "aLPq0zB6S-bO",
        "colab": {
          "base_uri": "https://localhost:8080/"
        },
        "outputId": "509c8eb9-e276-4208-9133-a98f948ee896"
      },
      "outputs": [
        {
          "output_type": "execute_result",
          "data": {
            "text/plain": [
              "(300,)"
            ]
          },
          "metadata": {},
          "execution_count": 30
        }
      ],
      "source": [
        "biases.shape"
      ]
    },
    {
      "cell_type": "markdown",
      "metadata": {
        "id": "qADwM5a3S-bO"
      },
      "source": [
        "### Compile the Model\n",
        "Here you can chose the loss function, the optimizer, the performance metric, etc. check Keras documentation for further details."
      ]
    },
    {
      "cell_type": "code",
      "execution_count": null,
      "metadata": {
        "collapsed": true,
        "id": "lUMrUPDWS-bO"
      },
      "outputs": [],
      "source": [
        "model.compile(loss=\"sparse_categorical_crossentropy\",\n",
        "              optimizer=\"sgd\",\n",
        "              metrics=[\"accuracy\"])"
      ]
    },
    {
      "cell_type": "markdown",
      "metadata": {
        "id": "yy1KODQ8S-bP"
      },
      "source": [
        "This is equivalent to:"
      ]
    },
    {
      "cell_type": "markdown",
      "metadata": {
        "id": "UsaVxLwtS-bP"
      },
      "source": [
        "```python\n",
        "model.compile(loss=keras.losses.sparse_categorical_crossentropy,\n",
        "              optimizer=keras.optimizers.SGD(),\n",
        "              metrics=[keras.metrics.sparse_categorical_accuracy])\n",
        "```"
      ]
    },
    {
      "cell_type": "markdown",
      "metadata": {
        "id": "rdhYdMjwS-bP"
      },
      "source": [
        "### Train the model\n",
        "Here you can chose how many epochs you need and the batch size."
      ]
    },
    {
      "cell_type": "code",
      "execution_count": null,
      "metadata": {
        "id": "XA2qPbUWS-bP",
        "colab": {
          "base_uri": "https://localhost:8080/"
        },
        "outputId": "ec9d92e3-8f13-49b0-d538-98e1f807c0f2"
      },
      "outputs": [
        {
          "output_type": "stream",
          "name": "stdout",
          "text": [
            "Epoch 1/30\n",
            "1719/1719 [==============================] - 7s 3ms/step - loss: 0.7126 - accuracy: 0.7644 - val_loss: 0.5085 - val_accuracy: 0.8252\n",
            "Epoch 2/30\n",
            "1719/1719 [==============================] - 4s 3ms/step - loss: 0.4882 - accuracy: 0.8290 - val_loss: 0.4454 - val_accuracy: 0.8474\n",
            "Epoch 3/30\n",
            "1719/1719 [==============================] - 5s 3ms/step - loss: 0.4420 - accuracy: 0.8444 - val_loss: 0.4163 - val_accuracy: 0.8582\n",
            "Epoch 4/30\n",
            "1719/1719 [==============================] - 4s 3ms/step - loss: 0.4157 - accuracy: 0.8536 - val_loss: 0.4131 - val_accuracy: 0.8544\n",
            "Epoch 5/30\n",
            "1719/1719 [==============================] - 5s 3ms/step - loss: 0.3945 - accuracy: 0.8609 - val_loss: 0.3774 - val_accuracy: 0.8694\n",
            "Epoch 6/30\n",
            "1719/1719 [==============================] - 4s 3ms/step - loss: 0.3795 - accuracy: 0.8664 - val_loss: 0.3822 - val_accuracy: 0.8684\n",
            "Epoch 7/30\n",
            "1719/1719 [==============================] - 4s 3ms/step - loss: 0.3649 - accuracy: 0.8705 - val_loss: 0.3606 - val_accuracy: 0.8714\n",
            "Epoch 8/30\n",
            "1719/1719 [==============================] - 4s 3ms/step - loss: 0.3536 - accuracy: 0.8747 - val_loss: 0.3605 - val_accuracy: 0.8728\n",
            "Epoch 9/30\n",
            "1719/1719 [==============================] - 4s 3ms/step - loss: 0.3434 - accuracy: 0.8786 - val_loss: 0.3586 - val_accuracy: 0.8698\n",
            "Epoch 10/30\n",
            "1719/1719 [==============================] - 4s 3ms/step - loss: 0.3340 - accuracy: 0.8815 - val_loss: 0.3470 - val_accuracy: 0.8794\n",
            "Epoch 11/30\n",
            "1719/1719 [==============================] - 4s 3ms/step - loss: 0.3259 - accuracy: 0.8842 - val_loss: 0.3509 - val_accuracy: 0.8768\n",
            "Epoch 12/30\n",
            "1719/1719 [==============================] - 4s 3ms/step - loss: 0.3169 - accuracy: 0.8861 - val_loss: 0.3662 - val_accuracy: 0.8670\n",
            "Epoch 13/30\n",
            "1719/1719 [==============================] - 4s 3ms/step - loss: 0.3093 - accuracy: 0.8890 - val_loss: 0.3313 - val_accuracy: 0.8804\n",
            "Epoch 14/30\n",
            "1719/1719 [==============================] - 4s 3ms/step - loss: 0.3025 - accuracy: 0.8914 - val_loss: 0.3351 - val_accuracy: 0.8778\n",
            "Epoch 15/30\n",
            "1719/1719 [==============================] - 4s 3ms/step - loss: 0.2965 - accuracy: 0.8943 - val_loss: 0.3505 - val_accuracy: 0.8754\n",
            "Epoch 16/30\n",
            "1719/1719 [==============================] - 4s 3ms/step - loss: 0.2892 - accuracy: 0.8953 - val_loss: 0.3155 - val_accuracy: 0.8854\n",
            "Epoch 17/30\n",
            "1719/1719 [==============================] - 4s 3ms/step - loss: 0.2846 - accuracy: 0.8980 - val_loss: 0.3276 - val_accuracy: 0.8822\n",
            "Epoch 18/30\n",
            "1719/1719 [==============================] - 4s 3ms/step - loss: 0.2784 - accuracy: 0.9008 - val_loss: 0.3459 - val_accuracy: 0.8740\n",
            "Epoch 19/30\n",
            "1719/1719 [==============================] - 4s 3ms/step - loss: 0.2726 - accuracy: 0.9014 - val_loss: 0.3270 - val_accuracy: 0.8750\n",
            "Epoch 20/30\n",
            "1719/1719 [==============================] - 4s 3ms/step - loss: 0.2673 - accuracy: 0.9028 - val_loss: 0.3110 - val_accuracy: 0.8886\n",
            "Epoch 21/30\n",
            "1719/1719 [==============================] - 4s 3ms/step - loss: 0.2628 - accuracy: 0.9050 - val_loss: 0.3073 - val_accuracy: 0.8918\n",
            "Epoch 22/30\n",
            "1719/1719 [==============================] - 4s 3ms/step - loss: 0.2578 - accuracy: 0.9072 - val_loss: 0.3099 - val_accuracy: 0.8902\n",
            "Epoch 23/30\n",
            "1719/1719 [==============================] - 4s 3ms/step - loss: 0.2526 - accuracy: 0.9082 - val_loss: 0.3039 - val_accuracy: 0.8940\n",
            "Epoch 24/30\n",
            "1719/1719 [==============================] - 4s 3ms/step - loss: 0.2489 - accuracy: 0.9089 - val_loss: 0.3104 - val_accuracy: 0.8914\n",
            "Epoch 25/30\n",
            "1719/1719 [==============================] - 4s 3ms/step - loss: 0.2449 - accuracy: 0.9107 - val_loss: 0.3239 - val_accuracy: 0.8820\n",
            "Epoch 26/30\n",
            "1719/1719 [==============================] - 4s 3ms/step - loss: 0.2400 - accuracy: 0.9125 - val_loss: 0.3022 - val_accuracy: 0.8874\n",
            "Epoch 27/30\n",
            "1719/1719 [==============================] - 4s 3ms/step - loss: 0.2355 - accuracy: 0.9148 - val_loss: 0.3120 - val_accuracy: 0.8878\n",
            "Epoch 28/30\n",
            "1719/1719 [==============================] - 4s 3ms/step - loss: 0.2319 - accuracy: 0.9158 - val_loss: 0.3061 - val_accuracy: 0.8912\n",
            "Epoch 29/30\n",
            "1719/1719 [==============================] - 4s 3ms/step - loss: 0.2282 - accuracy: 0.9171 - val_loss: 0.2901 - val_accuracy: 0.8956\n",
            "Epoch 30/30\n",
            "1719/1719 [==============================] - 5s 3ms/step - loss: 0.2246 - accuracy: 0.9188 - val_loss: 0.2909 - val_accuracy: 0.8960\n"
          ]
        }
      ],
      "source": [
        "history = model.fit(X_train, y_train, batch_size=32, epochs=30,\n",
        "                    validation_data=(X_valid, y_valid))"
      ]
    },
    {
      "cell_type": "code",
      "execution_count": null,
      "metadata": {
        "id": "HNWny25OS-bP",
        "colab": {
          "base_uri": "https://localhost:8080/"
        },
        "outputId": "b8be163f-89c6-4483-92c0-10c7f9308023"
      },
      "outputs": [
        {
          "output_type": "execute_result",
          "data": {
            "text/plain": [
              "{'epochs': 30, 'steps': 1719, 'verbose': 1}"
            ]
          },
          "metadata": {},
          "execution_count": 35
        }
      ],
      "source": [
        "history.params"
      ]
    },
    {
      "cell_type": "code",
      "source": [
        ""
      ],
      "metadata": {
        "id": "jsEbhNLvk3_g"
      },
      "execution_count": null,
      "outputs": []
    },
    {
      "cell_type": "code",
      "execution_count": null,
      "metadata": {
        "id": "kBKnKWYrS-bQ",
        "colab": {
          "base_uri": "https://localhost:8080/"
        },
        "outputId": "1327574b-87d4-4e89-e4f1-b54924d5b32b"
      },
      "outputs": [
        {
          "output_type": "stream",
          "name": "stdout",
          "text": [
            "[0, 1, 2, 3, 4, 5, 6, 7, 8, 9, 10, 11, 12, 13, 14, 15, 16, 17, 18, 19, 20, 21, 22, 23, 24, 25, 26, 27, 28, 29]\n"
          ]
        }
      ],
      "source": [
        "print(history.epoch)"
      ]
    },
    {
      "cell_type": "code",
      "execution_count": null,
      "metadata": {
        "id": "tVxoy6QLS-bQ",
        "colab": {
          "base_uri": "https://localhost:8080/"
        },
        "outputId": "1e9f4de9-f546-4744-9766-b891de46fc55"
      },
      "outputs": [
        {
          "output_type": "execute_result",
          "data": {
            "text/plain": [
              "dict_keys(['loss', 'accuracy', 'val_loss', 'val_accuracy'])"
            ]
          },
          "metadata": {},
          "execution_count": 37
        }
      ],
      "source": [
        "history.history.keys()"
      ]
    },
    {
      "cell_type": "markdown",
      "metadata": {
        "id": "UnwV_ygvS-bQ"
      },
      "source": [
        "### Plot learning Curves"
      ]
    },
    {
      "cell_type": "code",
      "execution_count": null,
      "metadata": {
        "id": "RGSYhWndS-bQ",
        "colab": {
          "base_uri": "https://localhost:8080/",
          "height": 328
        },
        "outputId": "c1037c2f-d301-43af-dd7e-3b4ddf25f605"
      },
      "outputs": [
        {
          "output_type": "display_data",
          "data": {
            "text/plain": [
              "<Figure size 576x360 with 1 Axes>"
            ],
            "image/png": "[encoded data removed]"
          },
          "metadata": {
            "needs_background": "light"
          }
        }
      ],
      "source": [
        "import pandas as pd\n",
        "\n",
        "pd.DataFrame(history.history).plot(figsize=(8, 5))\n",
        "plt.grid(True)\n",
        "plt.gca().set_ylim(0, 1)\n",
        "plt.show()"
      ]
    },
    {
      "cell_type": "code",
      "execution_count": null,
      "metadata": {
        "id": "K7j7csiJS-bQ",
        "colab": {
          "base_uri": "https://localhost:8080/"
        },
        "outputId": "a1564de2-281c-4cd6-ebb5-bcfab99dd5c0"
      },
      "outputs": [
        {
          "output_type": "stream",
          "name": "stdout",
          "text": [
            "313/313 [==============================] - 1s 2ms/step - loss: 0.3223 - accuracy: 0.8848\n"
          ]
        },
        {
          "output_type": "execute_result",
          "data": {
            "text/plain": [
              "[0.32234567403793335, 0.8848000168800354]"
            ]
          },
          "metadata": {},
          "execution_count": 39
        }
      ],
      "source": [
        "model.evaluate(X_test, y_test)"
      ]
    },
    {
      "cell_type": "code",
      "execution_count": null,
      "metadata": {
        "id": "PIJnUqg2S-bR",
        "colab": {
          "base_uri": "https://localhost:8080/"
        },
        "outputId": "5e2ce23c-dce3-40e6-8096-09bb720e04f3"
      },
      "outputs": [
        {
          "output_type": "execute_result",
          "data": {
            "text/plain": [
              "array([[0.  , 0.  , 0.  , 0.  , 0.  , 0.03, 0.  , 0.01, 0.  , 0.96],\n",
              "       [0.  , 0.  , 1.  , 0.  , 0.  , 0.  , 0.  , 0.  , 0.  , 0.  ],\n",
              "       [0.  , 1.  , 0.  , 0.  , 0.  , 0.  , 0.  , 0.  , 0.  , 0.  ]],\n",
              "      dtype=float32)"
            ]
          },
          "metadata": {},
          "execution_count": 40
        }
      ],
      "source": [
        "X_new = X_test[:3]\n",
        "y_proba = model.predict(X_new)\n",
        "y_proba.round(2)"
      ]
    },
    {
      "cell_type": "code",
      "execution_count": null,
      "metadata": {
        "id": "Y_cWkIcVS-bR",
        "colab": {
          "base_uri": "https://localhost:8080/"
        },
        "outputId": "c3c430fe-bd1b-455a-d7c5-b37a85eedc93"
      },
      "outputs": [
        {
          "output_type": "execute_result",
          "data": {
            "text/plain": [
              "array([9, 2, 1])"
            ]
          },
          "metadata": {},
          "execution_count": 47
        }
      ],
      "source": [
        "#y_pred = model.predict_classes(X_new)\n",
        "y_pred=np.argmax(model.predict(X_new ), axis=-1)\n",
        "y_pred "
      ]
    },
    {
      "cell_type": "code",
      "execution_count": null,
      "metadata": {
        "id": "DB7PqhGIS-bR",
        "colab": {
          "base_uri": "https://localhost:8080/"
        },
        "outputId": "af44d3ad-ec0b-4382-eb09-d41462021bca"
      },
      "outputs": [
        {
          "output_type": "execute_result",
          "data": {
            "text/plain": [
              "array(['Ankle boot', 'Pullover', 'Trouser'], dtype='<U11')"
            ]
          },
          "metadata": {},
          "execution_count": 48
        }
      ],
      "source": [
        "np.array(class_names)[y_pred]"
      ]
    },
    {
      "cell_type": "code",
      "execution_count": null,
      "metadata": {
        "id": "Om9jAcXcS-bW",
        "colab": {
          "base_uri": "https://localhost:8080/"
        },
        "outputId": "b40a1fac-722d-46a2-cc3d-3e4fd910c4c6"
      },
      "outputs": [
        {
          "output_type": "execute_result",
          "data": {
            "text/plain": [
              "array([9, 2, 1], dtype=uint8)"
            ]
          },
          "metadata": {},
          "execution_count": 49
        }
      ],
      "source": [
        "y_new = y_test[:3]\n",
        "y_new"
      ]
    },
    {
      "cell_type": "code",
      "execution_count": null,
      "metadata": {
        "id": "Dxa5h07uS-bW",
        "colab": {
          "base_uri": "https://localhost:8080/",
          "height": 165
        },
        "outputId": "befc5d68-4f00-48ef-82fe-4ec9e0b4f17d"
      },
      "outputs": [
        {
          "output_type": "display_data",
          "data": {
            "text/plain": [
              "<Figure size 518.4x172.8 with 3 Axes>"
            ],
            "image/png": "[encoded data removed]"
          },
          "metadata": {
            "needs_background": "light"
          }
        }
      ],
      "source": [
        "plt.figure(figsize=(7.2, 2.4))\n",
        "for index, image in enumerate(X_new):\n",
        "    plt.subplot(1, 3, index + 1)\n",
        "    plt.imshow(image, cmap=\"binary\", interpolation=\"nearest\")\n",
        "    plt.axis('off')\n",
        "    plt.title(class_names[y_test[index]], fontsize=12)\n",
        "plt.subplots_adjust(wspace=0.2, hspace=0.5)\n",
        "plt.show()"
      ]
    },
    {
      "cell_type": "markdown",
      "metadata": {
        "collapsed": true,
        "id": "AVzybE_9S-bW"
      },
      "source": [
        "## Exercise"
      ]
    },
    {
      "cell_type": "markdown",
      "metadata": {
        "id": "ImJI55qPS-bW"
      },
      "source": [
        "#### 1) Plot Learning curves when using different optimizers\n",
        "#### 2) Plot Learning curves when using different batch size\n",
        "#### 3) Plot Learning curves when using different number of epochs\n",
        "#### 4) Add additional neurons and use Dropout Layer. Plot Learning curves.\n",
        "#### 5) Use Batch Normalisation\n",
        "#### 6) repeat with more layers\n",
        "#### 7) apply on different datasets"
      ]
    },
    {
      "cell_type": "code",
      "execution_count": null,
      "metadata": {
        "collapsed": true,
        "id": "rC7vpGxIS-bX"
      },
      "outputs": [],
      "source": [
        "model.compile(loss=\"sparse_categorical_crossentropy\",\n",
        "              optimizer=\"adam\",\n",
        "              metrics=[\"accuracy\"])"
      ]
    },
    {
      "cell_type": "code",
      "source": [
        "history = model.fit(X_train, y_train, batch_size=32, epochs=30,\n",
        "                    validation_data=(X_valid, y_valid))"
      ],
      "metadata": {
        "colab": {
          "base_uri": "https://localhost:8080/"
        },
        "id": "iSOs6KLUjrvw",
        "outputId": "f1219b01-6ce4-44f8-c5c6-272a87b66a46"
      },
      "execution_count": null,
      "outputs": [
        {
          "output_type": "stream",
          "name": "stdout",
          "text": [
            "Epoch 1/30\n",
            "1719/1719 [==============================] - 10s 4ms/step - loss: 0.4865 - accuracy: 0.8263 - val_loss: 0.3681 - val_accuracy: 0.8704\n",
            "Epoch 2/30\n",
            "1719/1719 [==============================] - 7s 4ms/step - loss: 0.3656 - accuracy: 0.8666 - val_loss: 0.3681 - val_accuracy: 0.8676\n",
            "Epoch 3/30\n",
            "1719/1719 [==============================] - 6s 4ms/step - loss: 0.3269 - accuracy: 0.8795 - val_loss: 0.3197 - val_accuracy: 0.8836\n",
            "Epoch 4/30\n",
            "1719/1719 [==============================] - 6s 4ms/step - loss: 0.3050 - accuracy: 0.8859 - val_loss: 0.3283 - val_accuracy: 0.8800\n",
            "Epoch 5/30\n",
            "1719/1719 [==============================] - 7s 4ms/step - loss: 0.2864 - accuracy: 0.8930 - val_loss: 0.3079 - val_accuracy: 0.8870\n",
            "Epoch 6/30\n",
            "1719/1719 [==============================] - 6s 4ms/step - loss: 0.2716 - accuracy: 0.8984 - val_loss: 0.3073 - val_accuracy: 0.8862\n",
            "Epoch 7/30\n",
            "1719/1719 [==============================] - 6s 4ms/step - loss: 0.2568 - accuracy: 0.9023 - val_loss: 0.3127 - val_accuracy: 0.8868\n",
            "Epoch 8/30\n",
            "1719/1719 [==============================] - 6s 4ms/step - loss: 0.2470 - accuracy: 0.9065 - val_loss: 0.3010 - val_accuracy: 0.8958\n",
            "Epoch 9/30\n",
            "1719/1719 [==============================] - 7s 4ms/step - loss: 0.2355 - accuracy: 0.9115 - val_loss: 0.3032 - val_accuracy: 0.9002\n",
            "Epoch 10/30\n",
            "1719/1719 [==============================] - 6s 4ms/step - loss: 0.2269 - accuracy: 0.9125 - val_loss: 0.3240 - val_accuracy: 0.8904\n",
            "Epoch 11/30\n",
            "1719/1719 [==============================] - 6s 4ms/step - loss: 0.2187 - accuracy: 0.9169 - val_loss: 0.3278 - val_accuracy: 0.8880\n",
            "Epoch 12/30\n",
            "1719/1719 [==============================] - 6s 4ms/step - loss: 0.2116 - accuracy: 0.9189 - val_loss: 0.3368 - val_accuracy: 0.8846\n",
            "Epoch 13/30\n",
            "1719/1719 [==============================] - 6s 4ms/step - loss: 0.2027 - accuracy: 0.9227 - val_loss: 0.3680 - val_accuracy: 0.8886\n",
            "Epoch 14/30\n",
            "1719/1719 [==============================] - 7s 4ms/step - loss: 0.1974 - accuracy: 0.9241 - val_loss: 0.3251 - val_accuracy: 0.8944\n",
            "Epoch 15/30\n",
            "1719/1719 [==============================] - 7s 4ms/step - loss: 0.1894 - accuracy: 0.9278 - val_loss: 0.3298 - val_accuracy: 0.8914\n",
            "Epoch 16/30\n",
            "1719/1719 [==============================] - 7s 4ms/step - loss: 0.1821 - accuracy: 0.9306 - val_loss: 0.3447 - val_accuracy: 0.8974\n",
            "Epoch 17/30\n",
            "1719/1719 [==============================] - 7s 4ms/step - loss: 0.1765 - accuracy: 0.9317 - val_loss: 0.3268 - val_accuracy: 0.8996\n",
            "Epoch 18/30\n",
            "1719/1719 [==============================] - 7s 4ms/step - loss: 0.1694 - accuracy: 0.9351 - val_loss: 0.3841 - val_accuracy: 0.8908\n",
            "Epoch 19/30\n",
            "1719/1719 [==============================] - 7s 4ms/step - loss: 0.1695 - accuracy: 0.9359 - val_loss: 0.3479 - val_accuracy: 0.8936\n",
            "Epoch 20/30\n",
            "1719/1719 [==============================] - 7s 4ms/step - loss: 0.1613 - accuracy: 0.9383 - val_loss: 0.3557 - val_accuracy: 0.8938\n",
            "Epoch 21/30\n",
            "1719/1719 [==============================] - 6s 4ms/step - loss: 0.1575 - accuracy: 0.9394 - val_loss: 0.3498 - val_accuracy: 0.8976\n",
            "Epoch 22/30\n",
            "1719/1719 [==============================] - 7s 4ms/step - loss: 0.1521 - accuracy: 0.9403 - val_loss: 0.3814 - val_accuracy: 0.8988\n",
            "Epoch 23/30\n",
            "1719/1719 [==============================] - 7s 4ms/step - loss: 0.1493 - accuracy: 0.9427 - val_loss: 0.4189 - val_accuracy: 0.8944\n",
            "Epoch 24/30\n",
            "1719/1719 [==============================] - 6s 4ms/step - loss: 0.1451 - accuracy: 0.9442 - val_loss: 0.4049 - val_accuracy: 0.8962\n",
            "Epoch 25/30\n",
            "1719/1719 [==============================] - 6s 4ms/step - loss: 0.1393 - accuracy: 0.9461 - val_loss: 0.4070 - val_accuracy: 0.8958\n",
            "Epoch 26/30\n",
            "1719/1719 [==============================] - 6s 4ms/step - loss: 0.1384 - accuracy: 0.9471 - val_loss: 0.4281 - val_accuracy: 0.8942\n",
            "Epoch 27/30\n",
            "1719/1719 [==============================] - 6s 4ms/step - loss: 0.1359 - accuracy: 0.9476 - val_loss: 0.4049 - val_accuracy: 0.8994\n",
            "Epoch 28/30\n",
            "1719/1719 [==============================] - 6s 4ms/step - loss: 0.1283 - accuracy: 0.9512 - val_loss: 0.4147 - val_accuracy: 0.9004\n",
            "Epoch 29/30\n",
            "1719/1719 [==============================] - 6s 4ms/step - loss: 0.1290 - accuracy: 0.9490 - val_loss: 0.4398 - val_accuracy: 0.8976\n",
            "Epoch 30/30\n",
            "1719/1719 [==============================] - 6s 4ms/step - loss: 0.1234 - accuracy: 0.9516 - val_loss: 0.4529 - val_accuracy: 0.8958\n"
          ]
        }
      ]
    },
    {
      "cell_type": "code",
      "source": [
        "import pandas as pd\n",
        "\n",
        "pd.DataFrame(history.history).plot(figsize=(8, 5))\n",
        "plt.grid(True)\n",
        "plt.gca().set_ylim(0, 1)\n",
        "plt.show()"
      ],
      "metadata": {
        "colab": {
          "base_uri": "https://localhost:8080/",
          "height": 328
        },
        "id": "mjpqQRMek7Ho",
        "outputId": "2fa4845d-48e4-45a9-b411-09971e231edc"
      },
      "execution_count": null,
      "outputs": [
        {
          "output_type": "display_data",
          "data": {
            "text/plain": [
              "<Figure size 576x360 with 1 Axes>"
            ],
            "image/png": "[encoded data removed]"
          },
          "metadata": {
            "needs_background": "light"
          }
        }
      ]
    },
    {
      "cell_type": "code",
      "source": [
        "model.evaluate(X_test, y_test)"
      ],
      "metadata": {
        "colab": {
          "base_uri": "https://localhost:8080/"
        },
        "id": "tNurEqQnl2Mo",
        "outputId": "cff17fbb-c0b9-4776-930f-309bf9241966"
      },
      "execution_count": null,
      "outputs": [
        {
          "output_type": "stream",
          "name": "stdout",
          "text": [
            "313/313 [==============================] - 1s 3ms/step - loss: 0.5022 - accuracy: 0.8865\n"
          ]
        },
        {
          "output_type": "execute_result",
          "data": {
            "text/plain": [
              "[0.5022153854370117, 0.8865000009536743]"
            ]
          },
          "metadata": {},
          "execution_count": 25
        }
      ]
    },
    {
      "cell_type": "code",
      "source": [
        "model.compile(loss=\"sparse_categorical_crossentropy\",\n",
        "              optimizer=\"RMSprop\",\n",
        "              metrics=[\"accuracy\"])"
      ],
      "metadata": {
        "id": "ENV-Mz_yml_4"
      },
      "execution_count": null,
      "outputs": []
    },
    {
      "cell_type": "code",
      "source": [
        "history = model.fit(X_train, y_train, batch_size=32, epochs=30,\n",
        "                    validation_data=(X_valid, y_valid))"
      ],
      "metadata": {
        "colab": {
          "base_uri": "https://localhost:8080/"
        },
        "id": "slKOFdBgnX_j",
        "outputId": "39196ad4-3ea6-48ea-995e-5b6e82e3267b"
      },
      "execution_count": null,
      "outputs": [
        {
          "output_type": "stream",
          "name": "stdout",
          "text": [
            "Epoch 1/30\n",
            "1719/1719 [==============================] - 8s 4ms/step - loss: 0.1252 - accuracy: 0.9535 - val_loss: 0.5919 - val_accuracy: 0.9010\n",
            "Epoch 2/30\n",
            "1719/1719 [==============================] - 7s 4ms/step - loss: 0.1338 - accuracy: 0.9510 - val_loss: 0.6289 - val_accuracy: 0.8996\n",
            "Epoch 3/30\n",
            "1719/1719 [==============================] - 7s 4ms/step - loss: 0.1412 - accuracy: 0.9493 - val_loss: 0.6946 - val_accuracy: 0.8962\n",
            "Epoch 4/30\n",
            "1719/1719 [==============================] - 7s 4ms/step - loss: 0.1514 - accuracy: 0.9476 - val_loss: 0.7043 - val_accuracy: 0.8944\n",
            "Epoch 5/30\n",
            "1719/1719 [==============================] - 7s 4ms/step - loss: 0.1527 - accuracy: 0.9473 - val_loss: 0.7110 - val_accuracy: 0.8964\n",
            "Epoch 6/30\n",
            "1719/1719 [==============================] - 7s 4ms/step - loss: 0.1594 - accuracy: 0.9463 - val_loss: 0.7749 - val_accuracy: 0.8968\n",
            "Epoch 7/30\n",
            "1719/1719 [==============================] - 7s 4ms/step - loss: 0.1648 - accuracy: 0.9463 - val_loss: 0.8894 - val_accuracy: 0.8956\n",
            "Epoch 8/30\n",
            "1719/1719 [==============================] - 7s 4ms/step - loss: 0.1643 - accuracy: 0.9456 - val_loss: 0.8384 - val_accuracy: 0.8928\n",
            "Epoch 9/30\n",
            "1719/1719 [==============================] - 7s 4ms/step - loss: 0.1729 - accuracy: 0.9436 - val_loss: 0.9123 - val_accuracy: 0.8858\n",
            "Epoch 10/30\n",
            "1719/1719 [==============================] - 7s 4ms/step - loss: 0.1737 - accuracy: 0.9441 - val_loss: 0.9992 - val_accuracy: 0.8986\n",
            "Epoch 11/30\n",
            "1719/1719 [==============================] - 7s 4ms/step - loss: 0.1740 - accuracy: 0.9431 - val_loss: 1.0286 - val_accuracy: 0.8896\n",
            "Epoch 12/30\n",
            "1719/1719 [==============================] - 7s 4ms/step - loss: 0.1776 - accuracy: 0.9442 - val_loss: 0.9534 - val_accuracy: 0.8906\n",
            "Epoch 13/30\n",
            "1719/1719 [==============================] - 7s 4ms/step - loss: 0.1729 - accuracy: 0.9432 - val_loss: 0.9504 - val_accuracy: 0.8948\n",
            "Epoch 14/30\n",
            "1719/1719 [==============================] - 7s 4ms/step - loss: 0.1781 - accuracy: 0.9434 - val_loss: 0.9968 - val_accuracy: 0.8928\n",
            "Epoch 15/30\n",
            "1719/1719 [==============================] - 7s 4ms/step - loss: 0.1804 - accuracy: 0.9440 - val_loss: 0.9829 - val_accuracy: 0.8954\n",
            "Epoch 16/30\n",
            "1719/1719 [==============================] - 7s 4ms/step - loss: 0.1792 - accuracy: 0.9444 - val_loss: 0.9983 - val_accuracy: 0.8914\n",
            "Epoch 17/30\n",
            "1719/1719 [==============================] - 7s 4ms/step - loss: 0.1780 - accuracy: 0.9437 - val_loss: 1.0719 - val_accuracy: 0.8928\n",
            "Epoch 18/30\n",
            "1719/1719 [==============================] - 7s 4ms/step - loss: 0.1785 - accuracy: 0.9441 - val_loss: 1.1017 - val_accuracy: 0.8880\n",
            "Epoch 19/30\n",
            "1719/1719 [==============================] - 7s 4ms/step - loss: 0.1855 - accuracy: 0.9439 - val_loss: 1.0738 - val_accuracy: 0.8870\n",
            "Epoch 20/30\n",
            "1719/1719 [==============================] - 7s 4ms/step - loss: 0.1836 - accuracy: 0.9445 - val_loss: 1.1045 - val_accuracy: 0.8918\n",
            "Epoch 21/30\n",
            "1719/1719 [==============================] - 7s 4ms/step - loss: 0.1811 - accuracy: 0.9447 - val_loss: 1.1879 - val_accuracy: 0.8896\n",
            "Epoch 22/30\n",
            "1719/1719 [==============================] - 7s 4ms/step - loss: 0.1834 - accuracy: 0.9455 - val_loss: 1.1530 - val_accuracy: 0.8924\n",
            "Epoch 23/30\n",
            "1719/1719 [==============================] - 7s 4ms/step - loss: 0.1818 - accuracy: 0.9451 - val_loss: 1.1884 - val_accuracy: 0.8882\n",
            "Epoch 24/30\n",
            "1719/1719 [==============================] - 7s 4ms/step - loss: 0.1861 - accuracy: 0.9461 - val_loss: 1.3052 - val_accuracy: 0.8872\n",
            "Epoch 25/30\n",
            "1719/1719 [==============================] - 7s 4ms/step - loss: 0.1805 - accuracy: 0.9465 - val_loss: 1.3016 - val_accuracy: 0.8896\n",
            "Epoch 26/30\n",
            "1719/1719 [==============================] - 7s 4ms/step - loss: 0.1842 - accuracy: 0.9446 - val_loss: 1.1829 - val_accuracy: 0.8906\n",
            "Epoch 27/30\n",
            "1719/1719 [==============================] - 7s 4ms/step - loss: 0.1835 - accuracy: 0.9448 - val_loss: 1.2243 - val_accuracy: 0.8844\n",
            "Epoch 28/30\n",
            "1719/1719 [==============================] - 7s 4ms/step - loss: 0.1896 - accuracy: 0.9452 - val_loss: 1.3770 - val_accuracy: 0.8878\n",
            "Epoch 29/30\n",
            "1719/1719 [==============================] - 7s 4ms/step - loss: 0.1831 - accuracy: 0.9468 - val_loss: 1.3153 - val_accuracy: 0.8904\n",
            "Epoch 30/30\n",
            "1719/1719 [==============================] - 7s 4ms/step - loss: 0.1894 - accuracy: 0.9457 - val_loss: 1.3589 - val_accuracy: 0.8876\n"
          ]
        }
      ]
    },
    {
      "cell_type": "code",
      "source": [
        "import pandas as pd\n",
        "\n",
        "pd.DataFrame(history.history).plot(figsize=(8, 5))\n",
        "plt.grid(True)\n",
        "plt.gca().set_ylim(0, 1)\n",
        "plt.show()"
      ],
      "metadata": {
        "colab": {
          "base_uri": "https://localhost:8080/",
          "height": 328
        },
        "id": "ZXKlrC90ncRz",
        "outputId": "e257cef7-74ba-48bd-c474-f604b8b7eda9"
      },
      "execution_count": null,
      "outputs": [
        {
          "output_type": "display_data",
          "data": {
            "text/plain": [
              "<Figure size 576x360 with 1 Axes>"
            ],
            "image/png": "[encoded data removed]"
          },
          "metadata": {
            "needs_background": "light"
          }
        }
      ]
    },
    {
      "cell_type": "code",
      "source": [
        "model.evaluate(X_test, y_test)"
      ],
      "metadata": {
        "colab": {
          "base_uri": "https://localhost:8080/"
        },
        "id": "hOQdUuHKo4EB",
        "outputId": "97473bf1-3e40-4429-da58-0c87808d7459"
      },
      "execution_count": null,
      "outputs": [
        {
          "output_type": "stream",
          "name": "stdout",
          "text": [
            "313/313 [==============================] - 1s 3ms/step - loss: 1.3357 - accuracy: 0.8830\n"
          ]
        },
        {
          "output_type": "execute_result",
          "data": {
            "text/plain": [
              "[1.3357130289077759, 0.8830000162124634]"
            ]
          },
          "metadata": {},
          "execution_count": 31
        }
      ]
    },
    {
      "cell_type": "code",
      "source": [
        "model.compile(loss=\"sparse_categorical_crossentropy\",\n",
        "              optimizer=\"Adamax\",\n",
        "              metrics=[\"accuracy\"])"
      ],
      "metadata": {
        "id": "X47XlobEpxWG"
      },
      "execution_count": null,
      "outputs": []
    },
    {
      "cell_type": "code",
      "source": [
        "history = model.fit(X_train, y_train, batch_size=32, epochs=30,\n",
        "                    validation_data=(X_valid, y_valid))"
      ],
      "metadata": {
        "colab": {
          "base_uri": "https://localhost:8080/"
        },
        "id": "fkEIT5tFqP6b",
        "outputId": "47a19ee3-6fc3-46a7-e0e4-38c1bc523bb7"
      },
      "execution_count": null,
      "outputs": [
        {
          "output_type": "stream",
          "name": "stdout",
          "text": [
            "Epoch 1/30\n",
            "1719/1719 [==============================] - 7s 4ms/step - loss: 0.1018 - accuracy: 0.9658 - val_loss: 1.3241 - val_accuracy: 0.8954\n",
            "Epoch 2/30\n",
            "1719/1719 [==============================] - 7s 4ms/step - loss: 0.0845 - accuracy: 0.9703 - val_loss: 1.2761 - val_accuracy: 0.8948\n",
            "Epoch 3/30\n",
            "1719/1719 [==============================] - 7s 4ms/step - loss: 0.0792 - accuracy: 0.9715 - val_loss: 1.3465 - val_accuracy: 0.8968\n",
            "Epoch 4/30\n",
            "1719/1719 [==============================] - 6s 4ms/step - loss: 0.0764 - accuracy: 0.9720 - val_loss: 1.3192 - val_accuracy: 0.8960\n",
            "Epoch 5/30\n",
            "1719/1719 [==============================] - 6s 4ms/step - loss: 0.0733 - accuracy: 0.9732 - val_loss: 1.3284 - val_accuracy: 0.8936\n",
            "Epoch 6/30\n",
            "1719/1719 [==============================] - 6s 4ms/step - loss: 0.0718 - accuracy: 0.9732 - val_loss: 1.3554 - val_accuracy: 0.8938\n",
            "Epoch 7/30\n",
            "1719/1719 [==============================] - 6s 4ms/step - loss: 0.0689 - accuracy: 0.9745 - val_loss: 1.3574 - val_accuracy: 0.8968\n",
            "Epoch 8/30\n",
            "1719/1719 [==============================] - 6s 4ms/step - loss: 0.0672 - accuracy: 0.9756 - val_loss: 1.3455 - val_accuracy: 0.8964\n",
            "Epoch 9/30\n",
            "1719/1719 [==============================] - 6s 4ms/step - loss: 0.0658 - accuracy: 0.9757 - val_loss: 1.3366 - val_accuracy: 0.8980\n",
            "Epoch 10/30\n",
            "1719/1719 [==============================] - 6s 4ms/step - loss: 0.0643 - accuracy: 0.9760 - val_loss: 1.3687 - val_accuracy: 0.8968\n",
            "Epoch 11/30\n",
            "1719/1719 [==============================] - 7s 4ms/step - loss: 0.0627 - accuracy: 0.9765 - val_loss: 1.3680 - val_accuracy: 0.8976\n",
            "Epoch 12/30\n",
            "1719/1719 [==============================] - 6s 4ms/step - loss: 0.0622 - accuracy: 0.9765 - val_loss: 1.3583 - val_accuracy: 0.8978\n",
            "Epoch 13/30\n",
            "1719/1719 [==============================] - 7s 4ms/step - loss: 0.0601 - accuracy: 0.9778 - val_loss: 1.4201 - val_accuracy: 0.8968\n",
            "Epoch 14/30\n",
            "1719/1719 [==============================] - 7s 4ms/step - loss: 0.0588 - accuracy: 0.9782 - val_loss: 1.4024 - val_accuracy: 0.8968\n",
            "Epoch 15/30\n",
            "1719/1719 [==============================] - 7s 4ms/step - loss: 0.0582 - accuracy: 0.9784 - val_loss: 1.4191 - val_accuracy: 0.8958\n",
            "Epoch 16/30\n",
            "1719/1719 [==============================] - 7s 4ms/step - loss: 0.0570 - accuracy: 0.9789 - val_loss: 1.4256 - val_accuracy: 0.8974\n",
            "Epoch 17/30\n",
            "1719/1719 [==============================] - 7s 4ms/step - loss: 0.0552 - accuracy: 0.9798 - val_loss: 1.4199 - val_accuracy: 0.8964\n",
            "Epoch 18/30\n",
            "1719/1719 [==============================] - 6s 4ms/step - loss: 0.0547 - accuracy: 0.9797 - val_loss: 1.4040 - val_accuracy: 0.8968\n",
            "Epoch 19/30\n",
            "1719/1719 [==============================] - 6s 4ms/step - loss: 0.0530 - accuracy: 0.9804 - val_loss: 1.4073 - val_accuracy: 0.8964\n",
            "Epoch 20/30\n",
            "1719/1719 [==============================] - 7s 4ms/step - loss: 0.0526 - accuracy: 0.9808 - val_loss: 1.4539 - val_accuracy: 0.8976\n",
            "Epoch 21/30\n",
            "1719/1719 [==============================] - 7s 4ms/step - loss: 0.0518 - accuracy: 0.9809 - val_loss: 1.4548 - val_accuracy: 0.8986\n",
            "Epoch 22/30\n",
            "1719/1719 [==============================] - 7s 4ms/step - loss: 0.0505 - accuracy: 0.9812 - val_loss: 1.4953 - val_accuracy: 0.8960\n",
            "Epoch 23/30\n",
            "1719/1719 [==============================] - 7s 4ms/step - loss: 0.0491 - accuracy: 0.9821 - val_loss: 1.4561 - val_accuracy: 0.8978\n",
            "Epoch 24/30\n",
            "1719/1719 [==============================] - 7s 4ms/step - loss: 0.0479 - accuracy: 0.9822 - val_loss: 1.4897 - val_accuracy: 0.8970\n",
            "Epoch 25/30\n",
            "1719/1719 [==============================] - 7s 4ms/step - loss: 0.0475 - accuracy: 0.9824 - val_loss: 1.4937 - val_accuracy: 0.8958\n",
            "Epoch 26/30\n",
            "1719/1719 [==============================] - 7s 4ms/step - loss: 0.0471 - accuracy: 0.9822 - val_loss: 1.5083 - val_accuracy: 0.8954\n",
            "Epoch 27/30\n",
            "1719/1719 [==============================] - 7s 4ms/step - loss: 0.0462 - accuracy: 0.9827 - val_loss: 1.5031 - val_accuracy: 0.8960\n",
            "Epoch 28/30\n",
            "1719/1719 [==============================] - 7s 4ms/step - loss: 0.0448 - accuracy: 0.9836 - val_loss: 1.4790 - val_accuracy: 0.8968\n",
            "Epoch 29/30\n",
            "1719/1719 [==============================] - 7s 4ms/step - loss: 0.0441 - accuracy: 0.9833 - val_loss: 1.4708 - val_accuracy: 0.8952\n",
            "Epoch 30/30\n",
            "1719/1719 [==============================] - 7s 4ms/step - loss: 0.0436 - accuracy: 0.9835 - val_loss: 1.4813 - val_accuracy: 0.8974\n"
          ]
        }
      ]
    },
    {
      "cell_type": "code",
      "source": [
        "import pandas as pd\n",
        "\n",
        "pd.DataFrame(history.history).plot(figsize=(8, 5))\n",
        "plt.grid(True)\n",
        "plt.gca().set_ylim(0, 1)\n",
        "plt.show()"
      ],
      "metadata": {
        "colab": {
          "base_uri": "https://localhost:8080/",
          "height": 328
        },
        "id": "7iOMBHqUqpBF",
        "outputId": "b657aa2e-5d54-4507-d320-ee42dffdb406"
      },
      "execution_count": null,
      "outputs": [
        {
          "output_type": "display_data",
          "data": {
            "text/plain": [
              "<Figure size 576x360 with 1 Axes>"
            ],
            "image/png": "[encoded data removed]"
          },
          "metadata": {
            "needs_background": "light"
          }
        }
      ]
    },
    {
      "cell_type": "code",
      "source": [
        "model.evaluate(X_test, y_test)"
      ],
      "metadata": {
        "colab": {
          "base_uri": "https://localhost:8080/"
        },
        "id": "jBki3J28rLMU",
        "outputId": "77f3d97a-eef1-4665-f1ab-4f4e9f9dbb15"
      },
      "execution_count": null,
      "outputs": [
        {
          "output_type": "stream",
          "name": "stdout",
          "text": [
            "313/313 [==============================] - 1s 3ms/step - loss: 1.4790 - accuracy: 0.8940\n"
          ]
        },
        {
          "output_type": "execute_result",
          "data": {
            "text/plain": [
              "[1.478979468345642, 0.8939999938011169]"
            ]
          },
          "metadata": {},
          "execution_count": 35
        }
      ]
    },
    {
      "cell_type": "code",
      "source": [
        "model.compile(loss=\"sparse_categorical_crossentropy\",\n",
        "              optimizer=\"sgd\",\n",
        "              metrics=[\"accuracy\"])\n",
        "history = model.fit(X_train, y_train, batch_size=100, epochs=30,\n",
        "                    validation_data=(X_valid, y_valid))"
      ],
      "metadata": {
        "colab": {
          "base_uri": "https://localhost:8080/",
          "height": 936
        },
        "id": "6NReMjhFrxNB",
        "outputId": "acecc85b-1a35-4273-9da1-13c567ce15ab"
      },
      "execution_count": null,
      "outputs": [
        {
          "output_type": "stream",
          "name": "stdout",
          "text": [
            "Epoch 1/30\n",
            "1100/1100 [==============================] - 4s 3ms/step - loss: 0.2772 - accuracy: 0.9058 - val_loss: 0.4615 - val_accuracy: 0.8898\n",
            "Epoch 2/30\n",
            "1100/1100 [==============================] - 4s 3ms/step - loss: 0.8668 - accuracy: 0.7713 - val_loss: 1.0080 - val_accuracy: 0.7052\n",
            "Epoch 3/30\n",
            "1100/1100 [==============================] - 4s 3ms/step - loss: 0.5184 - accuracy: 0.8295 - val_loss: 0.9558 - val_accuracy: 0.7368\n",
            "Epoch 4/30\n",
            "1100/1100 [==============================] - 3s 3ms/step - loss: 0.4130 - accuracy: 0.8612 - val_loss: 0.5199 - val_accuracy: 0.8564\n",
            "Epoch 5/30\n",
            "1100/1100 [==============================] - 4s 3ms/step - loss: 0.3691 - accuracy: 0.8744 - val_loss: 0.5267 - val_accuracy: 0.8578\n",
            "Epoch 6/30\n",
            "1100/1100 [==============================] - 4s 3ms/step - loss: 0.3409 - accuracy: 0.8827 - val_loss: 0.4987 - val_accuracy: 0.8656\n",
            "Epoch 7/30\n",
            "1100/1100 [==============================] - 3s 3ms/step - loss: 0.3207 - accuracy: 0.8894 - val_loss: 0.6325 - val_accuracy: 0.8386\n",
            "Epoch 8/30\n",
            "1100/1100 [==============================] - 4s 3ms/step - loss: 0.3028 - accuracy: 0.8949 - val_loss: 0.4860 - val_accuracy: 0.8720\n",
            "Epoch 9/30\n",
            "1100/1100 [==============================] - 3s 3ms/step - loss: 0.2784 - accuracy: 0.9019 - val_loss: 0.4794 - val_accuracy: 0.8822\n",
            "Epoch 10/30\n",
            "1100/1100 [==============================] - 4s 3ms/step - loss: 0.2721 - accuracy: 0.9037 - val_loss: 0.4882 - val_accuracy: 0.8776\n",
            "Epoch 11/30\n",
            "1100/1100 [==============================] - 3s 3ms/step - loss: 0.2572 - accuracy: 0.9101 - val_loss: 0.5174 - val_accuracy: 0.8698\n",
            "Epoch 12/30\n",
            "1100/1100 [==============================] - 4s 3ms/step - loss: 0.2485 - accuracy: 0.9119 - val_loss: 0.5188 - val_accuracy: 0.8690\n",
            "Epoch 13/30\n",
            "1100/1100 [==============================] - 4s 3ms/step - loss: 0.2508 - accuracy: 0.9118 - val_loss: 0.5426 - val_accuracy: 0.8674\n",
            "Epoch 14/30\n",
            "1100/1100 [==============================] - 4s 3ms/step - loss: 0.2457 - accuracy: 0.9134 - val_loss: 0.5304 - val_accuracy: 0.8634\n",
            "Epoch 15/30\n",
            "1100/1100 [==============================] - 4s 3ms/step - loss: 0.2398 - accuracy: 0.9143 - val_loss: 0.5396 - val_accuracy: 0.8634\n",
            "Epoch 16/30\n",
            "1100/1100 [==============================] - 3s 3ms/step - loss: 0.2252 - accuracy: 0.9190 - val_loss: 0.4774 - val_accuracy: 0.8738\n",
            "Epoch 17/30\n",
            " 850/1100 [======================>.......] - ETA: 0s - loss: 0.2186 - accuracy: 0.9222"
          ]
        },
        {
          "output_type": "error",
          "ename": "KeyboardInterrupt",
          "evalue": "ignored",
          "traceback": [
            "\u001b[0;31m---------------------------------------------------------------------------\u001b[0m",
            "\u001b[0;31mKeyboardInterrupt\u001b[0m                         Traceback (most recent call last)",
            "\u001b[0;32m<ipython-input-39-a552a3ff245f>\u001b[0m in \u001b[0;36m<module>\u001b[0;34m()\u001b[0m\n\u001b[1;32m      3\u001b[0m               metrics=[\"accuracy\"])\n\u001b[1;32m      4\u001b[0m history = model.fit(X_train, y_train, batch_size=50, epochs=30,\n\u001b[0;32m----> 5\u001b[0;31m                     validation_data=(X_valid, y_valid))\n\u001b[0m",
            "\u001b[0;32m/usr/local/lib/python3.7/dist-packages/keras/utils/traceback_utils.py\u001b[0m in \u001b[0;36merror_handler\u001b[0;34m(*args, **kwargs)\u001b[0m\n\u001b[1;32m     62\u001b[0m     \u001b[0mfiltered_tb\u001b[0m \u001b[0;34m=\u001b[0m \u001b[0;32mNone\u001b[0m\u001b[0;34m\u001b[0m\u001b[0;34m\u001b[0m\u001b[0m\n\u001b[1;32m     63\u001b[0m     \u001b[0;32mtry\u001b[0m\u001b[0;34m:\u001b[0m\u001b[0;34m\u001b[0m\u001b[0;34m\u001b[0m\u001b[0m\n\u001b[0;32m---> 64\u001b[0;31m       \u001b[0;32mreturn\u001b[0m \u001b[0mfn\u001b[0m\u001b[0;34m(\u001b[0m\u001b[0;34m*\u001b[0m\u001b[0margs\u001b[0m\u001b[0;34m,\u001b[0m \u001b[0;34m**\u001b[0m\u001b[0mkwargs\u001b[0m\u001b[0;34m)\u001b[0m\u001b[0;34m\u001b[0m\u001b[0;34m\u001b[0m\u001b[0m\n\u001b[0m\u001b[1;32m     65\u001b[0m     \u001b[0;32mexcept\u001b[0m \u001b[0mException\u001b[0m \u001b[0;32mas\u001b[0m \u001b[0me\u001b[0m\u001b[0;34m:\u001b[0m  \u001b[0;31m# pylint: disable=broad-except\u001b[0m\u001b[0;34m\u001b[0m\u001b[0;34m\u001b[0m\u001b[0m\n\u001b[1;32m     66\u001b[0m       \u001b[0mfiltered_tb\u001b[0m \u001b[0;34m=\u001b[0m \u001b[0m_process_traceback_frames\u001b[0m\u001b[0;34m(\u001b[0m\u001b[0me\u001b[0m\u001b[0;34m.\u001b[0m\u001b[0m__traceback__\u001b[0m\u001b[0;34m)\u001b[0m\u001b[0;34m\u001b[0m\u001b[0;34m\u001b[0m\u001b[0m\n",
            "\u001b[0;32m/usr/local/lib/python3.7/dist-packages/keras/engine/training.py\u001b[0m in \u001b[0;36mfit\u001b[0;34m(self, x, y, batch_size, epochs, verbose, callbacks, validation_split, validation_data, shuffle, class_weight, sample_weight, initial_epoch, steps_per_epoch, validation_steps, validation_batch_size, validation_freq, max_queue_size, workers, use_multiprocessing)\u001b[0m\n\u001b[1;32m   1387\u001b[0m               \u001b[0mlogs\u001b[0m \u001b[0;34m=\u001b[0m \u001b[0mtmp_logs\u001b[0m  \u001b[0;31m# No error, now safe to assign to logs.\u001b[0m\u001b[0;34m\u001b[0m\u001b[0;34m\u001b[0m\u001b[0m\n\u001b[1;32m   1388\u001b[0m               \u001b[0mend_step\u001b[0m \u001b[0;34m=\u001b[0m \u001b[0mstep\u001b[0m \u001b[0;34m+\u001b[0m \u001b[0mdata_handler\u001b[0m\u001b[0;34m.\u001b[0m\u001b[0mstep_increment\u001b[0m\u001b[0;34m\u001b[0m\u001b[0;34m\u001b[0m\u001b[0m\n\u001b[0;32m-> 1389\u001b[0;31m               \u001b[0mcallbacks\u001b[0m\u001b[0;34m.\u001b[0m\u001b[0mon_train_batch_end\u001b[0m\u001b[0;34m(\u001b[0m\u001b[0mend_step\u001b[0m\u001b[0;34m,\u001b[0m \u001b[0mlogs\u001b[0m\u001b[0;34m)\u001b[0m\u001b[0;34m\u001b[0m\u001b[0;34m\u001b[0m\u001b[0m\n\u001b[0m\u001b[1;32m   1390\u001b[0m               \u001b[0;32mif\u001b[0m \u001b[0mself\u001b[0m\u001b[0;34m.\u001b[0m\u001b[0mstop_training\u001b[0m\u001b[0;34m:\u001b[0m\u001b[0;34m\u001b[0m\u001b[0;34m\u001b[0m\u001b[0m\n\u001b[1;32m   1391\u001b[0m                 \u001b[0;32mbreak\u001b[0m\u001b[0;34m\u001b[0m\u001b[0;34m\u001b[0m\u001b[0m\n",
            "\u001b[0;32m/usr/local/lib/python3.7/dist-packages/keras/callbacks.py\u001b[0m in \u001b[0;36mon_train_batch_end\u001b[0;34m(self, batch, logs)\u001b[0m\n\u001b[1;32m    436\u001b[0m     \"\"\"\n\u001b[1;32m    437\u001b[0m     \u001b[0;32mif\u001b[0m \u001b[0mself\u001b[0m\u001b[0;34m.\u001b[0m\u001b[0m_should_call_train_batch_hooks\u001b[0m\u001b[0;34m:\u001b[0m\u001b[0;34m\u001b[0m\u001b[0;34m\u001b[0m\u001b[0m\n\u001b[0;32m--> 438\u001b[0;31m       \u001b[0mself\u001b[0m\u001b[0;34m.\u001b[0m\u001b[0m_call_batch_hook\u001b[0m\u001b[0;34m(\u001b[0m\u001b[0mModeKeys\u001b[0m\u001b[0;34m.\u001b[0m\u001b[0mTRAIN\u001b[0m\u001b[0;34m,\u001b[0m \u001b[0;34m'end'\u001b[0m\u001b[0;34m,\u001b[0m \u001b[0mbatch\u001b[0m\u001b[0;34m,\u001b[0m \u001b[0mlogs\u001b[0m\u001b[0;34m=\u001b[0m\u001b[0mlogs\u001b[0m\u001b[0;34m)\u001b[0m\u001b[0;34m\u001b[0m\u001b[0;34m\u001b[0m\u001b[0m\n\u001b[0m\u001b[1;32m    439\u001b[0m \u001b[0;34m\u001b[0m\u001b[0m\n\u001b[1;32m    440\u001b[0m   \u001b[0;32mdef\u001b[0m \u001b[0mon_test_batch_begin\u001b[0m\u001b[0;34m(\u001b[0m\u001b[0mself\u001b[0m\u001b[0;34m,\u001b[0m \u001b[0mbatch\u001b[0m\u001b[0;34m,\u001b[0m \u001b[0mlogs\u001b[0m\u001b[0;34m=\u001b[0m\u001b[0;32mNone\u001b[0m\u001b[0;34m)\u001b[0m\u001b[0;34m:\u001b[0m\u001b[0;34m\u001b[0m\u001b[0;34m\u001b[0m\u001b[0m\n",
            "\u001b[0;32m/usr/local/lib/python3.7/dist-packages/keras/callbacks.py\u001b[0m in \u001b[0;36m_call_batch_hook\u001b[0;34m(self, mode, hook, batch, logs)\u001b[0m\n\u001b[1;32m    295\u001b[0m       \u001b[0mself\u001b[0m\u001b[0;34m.\u001b[0m\u001b[0m_call_batch_begin_hook\u001b[0m\u001b[0;34m(\u001b[0m\u001b[0mmode\u001b[0m\u001b[0;34m,\u001b[0m \u001b[0mbatch\u001b[0m\u001b[0;34m,\u001b[0m \u001b[0mlogs\u001b[0m\u001b[0;34m)\u001b[0m\u001b[0;34m\u001b[0m\u001b[0;34m\u001b[0m\u001b[0m\n\u001b[1;32m    296\u001b[0m     \u001b[0;32melif\u001b[0m \u001b[0mhook\u001b[0m \u001b[0;34m==\u001b[0m \u001b[0;34m'end'\u001b[0m\u001b[0;34m:\u001b[0m\u001b[0;34m\u001b[0m\u001b[0;34m\u001b[0m\u001b[0m\n\u001b[0;32m--> 297\u001b[0;31m       \u001b[0mself\u001b[0m\u001b[0;34m.\u001b[0m\u001b[0m_call_batch_end_hook\u001b[0m\u001b[0;34m(\u001b[0m\u001b[0mmode\u001b[0m\u001b[0;34m,\u001b[0m \u001b[0mbatch\u001b[0m\u001b[0;34m,\u001b[0m \u001b[0mlogs\u001b[0m\u001b[0;34m)\u001b[0m\u001b[0;34m\u001b[0m\u001b[0;34m\u001b[0m\u001b[0m\n\u001b[0m\u001b[1;32m    298\u001b[0m     \u001b[0;32melse\u001b[0m\u001b[0;34m:\u001b[0m\u001b[0;34m\u001b[0m\u001b[0;34m\u001b[0m\u001b[0m\n\u001b[1;32m    299\u001b[0m       raise ValueError(\n",
            "\u001b[0;32m/usr/local/lib/python3.7/dist-packages/keras/callbacks.py\u001b[0m in \u001b[0;36m_call_batch_end_hook\u001b[0;34m(self, mode, batch, logs)\u001b[0m\n\u001b[1;32m    316\u001b[0m       \u001b[0mself\u001b[0m\u001b[0;34m.\u001b[0m\u001b[0m_batch_times\u001b[0m\u001b[0;34m.\u001b[0m\u001b[0mappend\u001b[0m\u001b[0;34m(\u001b[0m\u001b[0mbatch_time\u001b[0m\u001b[0;34m)\u001b[0m\u001b[0;34m\u001b[0m\u001b[0;34m\u001b[0m\u001b[0m\n\u001b[1;32m    317\u001b[0m \u001b[0;34m\u001b[0m\u001b[0m\n\u001b[0;32m--> 318\u001b[0;31m     \u001b[0mself\u001b[0m\u001b[0;34m.\u001b[0m\u001b[0m_call_batch_hook_helper\u001b[0m\u001b[0;34m(\u001b[0m\u001b[0mhook_name\u001b[0m\u001b[0;34m,\u001b[0m \u001b[0mbatch\u001b[0m\u001b[0;34m,\u001b[0m \u001b[0mlogs\u001b[0m\u001b[0;34m)\u001b[0m\u001b[0;34m\u001b[0m\u001b[0;34m\u001b[0m\u001b[0m\n\u001b[0m\u001b[1;32m    319\u001b[0m \u001b[0;34m\u001b[0m\u001b[0m\n\u001b[1;32m    320\u001b[0m     \u001b[0;32mif\u001b[0m \u001b[0mlen\u001b[0m\u001b[0;34m(\u001b[0m\u001b[0mself\u001b[0m\u001b[0;34m.\u001b[0m\u001b[0m_batch_times\u001b[0m\u001b[0;34m)\u001b[0m \u001b[0;34m>=\u001b[0m \u001b[0mself\u001b[0m\u001b[0;34m.\u001b[0m\u001b[0m_num_batches_for_timing_check\u001b[0m\u001b[0;34m:\u001b[0m\u001b[0;34m\u001b[0m\u001b[0;34m\u001b[0m\u001b[0m\n",
            "\u001b[0;32m/usr/local/lib/python3.7/dist-packages/keras/callbacks.py\u001b[0m in \u001b[0;36m_call_batch_hook_helper\u001b[0;34m(self, hook_name, batch, logs)\u001b[0m\n\u001b[1;32m    354\u001b[0m     \u001b[0;32mfor\u001b[0m \u001b[0mcallback\u001b[0m \u001b[0;32min\u001b[0m \u001b[0mself\u001b[0m\u001b[0;34m.\u001b[0m\u001b[0mcallbacks\u001b[0m\u001b[0;34m:\u001b[0m\u001b[0;34m\u001b[0m\u001b[0;34m\u001b[0m\u001b[0m\n\u001b[1;32m    355\u001b[0m       \u001b[0mhook\u001b[0m \u001b[0;34m=\u001b[0m \u001b[0mgetattr\u001b[0m\u001b[0;34m(\u001b[0m\u001b[0mcallback\u001b[0m\u001b[0;34m,\u001b[0m \u001b[0mhook_name\u001b[0m\u001b[0;34m)\u001b[0m\u001b[0;34m\u001b[0m\u001b[0;34m\u001b[0m\u001b[0m\n\u001b[0;32m--> 356\u001b[0;31m       \u001b[0mhook\u001b[0m\u001b[0;34m(\u001b[0m\u001b[0mbatch\u001b[0m\u001b[0;34m,\u001b[0m \u001b[0mlogs\u001b[0m\u001b[0;34m)\u001b[0m\u001b[0;34m\u001b[0m\u001b[0;34m\u001b[0m\u001b[0m\n\u001b[0m\u001b[1;32m    357\u001b[0m \u001b[0;34m\u001b[0m\u001b[0m\n\u001b[1;32m    358\u001b[0m     \u001b[0;32mif\u001b[0m \u001b[0mself\u001b[0m\u001b[0;34m.\u001b[0m\u001b[0m_check_timing\u001b[0m\u001b[0;34m:\u001b[0m\u001b[0;34m\u001b[0m\u001b[0;34m\u001b[0m\u001b[0m\n",
            "\u001b[0;32m/usr/local/lib/python3.7/dist-packages/keras/callbacks.py\u001b[0m in \u001b[0;36mon_train_batch_end\u001b[0;34m(self, batch, logs)\u001b[0m\n\u001b[1;32m   1032\u001b[0m \u001b[0;34m\u001b[0m\u001b[0m\n\u001b[1;32m   1033\u001b[0m   \u001b[0;32mdef\u001b[0m \u001b[0mon_train_batch_end\u001b[0m\u001b[0;34m(\u001b[0m\u001b[0mself\u001b[0m\u001b[0;34m,\u001b[0m \u001b[0mbatch\u001b[0m\u001b[0;34m,\u001b[0m \u001b[0mlogs\u001b[0m\u001b[0;34m=\u001b[0m\u001b[0;32mNone\u001b[0m\u001b[0;34m)\u001b[0m\u001b[0;34m:\u001b[0m\u001b[0;34m\u001b[0m\u001b[0;34m\u001b[0m\u001b[0m\n\u001b[0;32m-> 1034\u001b[0;31m     \u001b[0mself\u001b[0m\u001b[0;34m.\u001b[0m\u001b[0m_batch_update_progbar\u001b[0m\u001b[0;34m(\u001b[0m\u001b[0mbatch\u001b[0m\u001b[0;34m,\u001b[0m \u001b[0mlogs\u001b[0m\u001b[0;34m)\u001b[0m\u001b[0;34m\u001b[0m\u001b[0;34m\u001b[0m\u001b[0m\n\u001b[0m\u001b[1;32m   1035\u001b[0m \u001b[0;34m\u001b[0m\u001b[0m\n\u001b[1;32m   1036\u001b[0m   \u001b[0;32mdef\u001b[0m \u001b[0mon_test_batch_end\u001b[0m\u001b[0;34m(\u001b[0m\u001b[0mself\u001b[0m\u001b[0;34m,\u001b[0m \u001b[0mbatch\u001b[0m\u001b[0;34m,\u001b[0m \u001b[0mlogs\u001b[0m\u001b[0;34m=\u001b[0m\u001b[0;32mNone\u001b[0m\u001b[0;34m)\u001b[0m\u001b[0;34m:\u001b[0m\u001b[0;34m\u001b[0m\u001b[0;34m\u001b[0m\u001b[0m\n",
            "\u001b[0;32m/usr/local/lib/python3.7/dist-packages/keras/callbacks.py\u001b[0m in \u001b[0;36m_batch_update_progbar\u001b[0;34m(self, batch, logs)\u001b[0m\n\u001b[1;32m   1104\u001b[0m     \u001b[0;32mif\u001b[0m \u001b[0mself\u001b[0m\u001b[0;34m.\u001b[0m\u001b[0mverbose\u001b[0m \u001b[0;34m==\u001b[0m \u001b[0;36m1\u001b[0m\u001b[0;34m:\u001b[0m\u001b[0;34m\u001b[0m\u001b[0;34m\u001b[0m\u001b[0m\n\u001b[1;32m   1105\u001b[0m       \u001b[0;31m# Only block async when verbose = 1.\u001b[0m\u001b[0;34m\u001b[0m\u001b[0;34m\u001b[0m\u001b[0;34m\u001b[0m\u001b[0m\n\u001b[0;32m-> 1106\u001b[0;31m       \u001b[0mlogs\u001b[0m \u001b[0;34m=\u001b[0m \u001b[0mtf_utils\u001b[0m\u001b[0;34m.\u001b[0m\u001b[0msync_to_numpy_or_python_type\u001b[0m\u001b[0;34m(\u001b[0m\u001b[0mlogs\u001b[0m\u001b[0;34m)\u001b[0m\u001b[0;34m\u001b[0m\u001b[0;34m\u001b[0m\u001b[0m\n\u001b[0m\u001b[1;32m   1107\u001b[0m       \u001b[0mself\u001b[0m\u001b[0;34m.\u001b[0m\u001b[0mprogbar\u001b[0m\u001b[0;34m.\u001b[0m\u001b[0mupdate\u001b[0m\u001b[0;34m(\u001b[0m\u001b[0mself\u001b[0m\u001b[0;34m.\u001b[0m\u001b[0mseen\u001b[0m\u001b[0;34m,\u001b[0m \u001b[0mlist\u001b[0m\u001b[0;34m(\u001b[0m\u001b[0mlogs\u001b[0m\u001b[0;34m.\u001b[0m\u001b[0mitems\u001b[0m\u001b[0;34m(\u001b[0m\u001b[0;34m)\u001b[0m\u001b[0;34m)\u001b[0m\u001b[0;34m,\u001b[0m \u001b[0mfinalize\u001b[0m\u001b[0;34m=\u001b[0m\u001b[0;32mFalse\u001b[0m\u001b[0;34m)\u001b[0m\u001b[0;34m\u001b[0m\u001b[0;34m\u001b[0m\u001b[0m\n\u001b[1;32m   1108\u001b[0m \u001b[0;34m\u001b[0m\u001b[0m\n",
            "\u001b[0;32m/usr/local/lib/python3.7/dist-packages/keras/utils/tf_utils.py\u001b[0m in \u001b[0;36msync_to_numpy_or_python_type\u001b[0;34m(tensors)\u001b[0m\n\u001b[1;32m    561\u001b[0m     \u001b[0;32mreturn\u001b[0m \u001b[0mt\u001b[0m\u001b[0;34m.\u001b[0m\u001b[0mitem\u001b[0m\u001b[0;34m(\u001b[0m\u001b[0;34m)\u001b[0m \u001b[0;32mif\u001b[0m \u001b[0mnp\u001b[0m\u001b[0;34m.\u001b[0m\u001b[0mndim\u001b[0m\u001b[0;34m(\u001b[0m\u001b[0mt\u001b[0m\u001b[0;34m)\u001b[0m \u001b[0;34m==\u001b[0m \u001b[0;36m0\u001b[0m \u001b[0;32melse\u001b[0m \u001b[0mt\u001b[0m\u001b[0;34m\u001b[0m\u001b[0;34m\u001b[0m\u001b[0m\n\u001b[1;32m    562\u001b[0m \u001b[0;34m\u001b[0m\u001b[0m\n\u001b[0;32m--> 563\u001b[0;31m   \u001b[0;32mreturn\u001b[0m \u001b[0mtf\u001b[0m\u001b[0;34m.\u001b[0m\u001b[0mnest\u001b[0m\u001b[0;34m.\u001b[0m\u001b[0mmap_structure\u001b[0m\u001b[0;34m(\u001b[0m\u001b[0m_to_single_numpy_or_python_type\u001b[0m\u001b[0;34m,\u001b[0m \u001b[0mtensors\u001b[0m\u001b[0;34m)\u001b[0m\u001b[0;34m\u001b[0m\u001b[0;34m\u001b[0m\u001b[0m\n\u001b[0m\u001b[1;32m    564\u001b[0m \u001b[0;34m\u001b[0m\u001b[0m\n\u001b[1;32m    565\u001b[0m \u001b[0;34m\u001b[0m\u001b[0m\n",
            "\u001b[0;32m/usr/local/lib/python3.7/dist-packages/tensorflow/python/util/nest.py\u001b[0m in \u001b[0;36mmap_structure\u001b[0;34m(func, *structure, **kwargs)\u001b[0m\n\u001b[1;32m    912\u001b[0m \u001b[0;34m\u001b[0m\u001b[0m\n\u001b[1;32m    913\u001b[0m   return pack_sequence_as(\n\u001b[0;32m--> 914\u001b[0;31m       \u001b[0mstructure\u001b[0m\u001b[0;34m[\u001b[0m\u001b[0;36m0\u001b[0m\u001b[0;34m]\u001b[0m\u001b[0;34m,\u001b[0m \u001b[0;34m[\u001b[0m\u001b[0mfunc\u001b[0m\u001b[0;34m(\u001b[0m\u001b[0;34m*\u001b[0m\u001b[0mx\u001b[0m\u001b[0;34m)\u001b[0m \u001b[0;32mfor\u001b[0m \u001b[0mx\u001b[0m \u001b[0;32min\u001b[0m \u001b[0mentries\u001b[0m\u001b[0;34m]\u001b[0m\u001b[0;34m,\u001b[0m\u001b[0;34m\u001b[0m\u001b[0;34m\u001b[0m\u001b[0m\n\u001b[0m\u001b[1;32m    915\u001b[0m       expand_composites=expand_composites)\n\u001b[1;32m    916\u001b[0m \u001b[0;34m\u001b[0m\u001b[0m\n",
            "\u001b[0;32m/usr/local/lib/python3.7/dist-packages/tensorflow/python/util/nest.py\u001b[0m in \u001b[0;36m<listcomp>\u001b[0;34m(.0)\u001b[0m\n\u001b[1;32m    912\u001b[0m \u001b[0;34m\u001b[0m\u001b[0m\n\u001b[1;32m    913\u001b[0m   return pack_sequence_as(\n\u001b[0;32m--> 914\u001b[0;31m       \u001b[0mstructure\u001b[0m\u001b[0;34m[\u001b[0m\u001b[0;36m0\u001b[0m\u001b[0;34m]\u001b[0m\u001b[0;34m,\u001b[0m \u001b[0;34m[\u001b[0m\u001b[0mfunc\u001b[0m\u001b[0;34m(\u001b[0m\u001b[0;34m*\u001b[0m\u001b[0mx\u001b[0m\u001b[0;34m)\u001b[0m \u001b[0;32mfor\u001b[0m \u001b[0mx\u001b[0m \u001b[0;32min\u001b[0m \u001b[0mentries\u001b[0m\u001b[0;34m]\u001b[0m\u001b[0;34m,\u001b[0m\u001b[0;34m\u001b[0m\u001b[0;34m\u001b[0m\u001b[0m\n\u001b[0m\u001b[1;32m    915\u001b[0m       expand_composites=expand_composites)\n\u001b[1;32m    916\u001b[0m \u001b[0;34m\u001b[0m\u001b[0m\n",
            "\u001b[0;32m/usr/local/lib/python3.7/dist-packages/keras/utils/tf_utils.py\u001b[0m in \u001b[0;36m_to_single_numpy_or_python_type\u001b[0;34m(t)\u001b[0m\n\u001b[1;32m    555\u001b[0m     \u001b[0;31m# Don't turn ragged or sparse tensors to NumPy.\u001b[0m\u001b[0;34m\u001b[0m\u001b[0;34m\u001b[0m\u001b[0;34m\u001b[0m\u001b[0m\n\u001b[1;32m    556\u001b[0m     \u001b[0;32mif\u001b[0m \u001b[0misinstance\u001b[0m\u001b[0;34m(\u001b[0m\u001b[0mt\u001b[0m\u001b[0;34m,\u001b[0m \u001b[0mtf\u001b[0m\u001b[0;34m.\u001b[0m\u001b[0mTensor\u001b[0m\u001b[0;34m)\u001b[0m\u001b[0;34m:\u001b[0m\u001b[0;34m\u001b[0m\u001b[0;34m\u001b[0m\u001b[0m\n\u001b[0;32m--> 557\u001b[0;31m       \u001b[0mt\u001b[0m \u001b[0;34m=\u001b[0m \u001b[0mt\u001b[0m\u001b[0;34m.\u001b[0m\u001b[0mnumpy\u001b[0m\u001b[0;34m(\u001b[0m\u001b[0;34m)\u001b[0m\u001b[0;34m\u001b[0m\u001b[0;34m\u001b[0m\u001b[0m\n\u001b[0m\u001b[1;32m    558\u001b[0m     \u001b[0;31m# Strings, ragged and sparse tensors don't have .item(). Return them as-is.\u001b[0m\u001b[0;34m\u001b[0m\u001b[0;34m\u001b[0m\u001b[0;34m\u001b[0m\u001b[0m\n\u001b[1;32m    559\u001b[0m     \u001b[0;32mif\u001b[0m \u001b[0;32mnot\u001b[0m \u001b[0misinstance\u001b[0m\u001b[0;34m(\u001b[0m\u001b[0mt\u001b[0m\u001b[0;34m,\u001b[0m \u001b[0;34m(\u001b[0m\u001b[0mnp\u001b[0m\u001b[0;34m.\u001b[0m\u001b[0mndarray\u001b[0m\u001b[0;34m,\u001b[0m \u001b[0mnp\u001b[0m\u001b[0;34m.\u001b[0m\u001b[0mgeneric\u001b[0m\u001b[0;34m)\u001b[0m\u001b[0;34m)\u001b[0m\u001b[0;34m:\u001b[0m\u001b[0;34m\u001b[0m\u001b[0;34m\u001b[0m\u001b[0m\n",
            "\u001b[0;32m/usr/local/lib/python3.7/dist-packages/tensorflow/python/framework/ops.py\u001b[0m in \u001b[0;36mnumpy\u001b[0;34m(self)\u001b[0m\n\u001b[1;32m   1221\u001b[0m     \"\"\"\n\u001b[1;32m   1222\u001b[0m     \u001b[0;31m# TODO(slebedev): Consider avoiding a copy for non-CPU or remote tensors.\u001b[0m\u001b[0;34m\u001b[0m\u001b[0;34m\u001b[0m\u001b[0;34m\u001b[0m\u001b[0m\n\u001b[0;32m-> 1223\u001b[0;31m     \u001b[0mmaybe_arr\u001b[0m \u001b[0;34m=\u001b[0m \u001b[0mself\u001b[0m\u001b[0;34m.\u001b[0m\u001b[0m_numpy\u001b[0m\u001b[0;34m(\u001b[0m\u001b[0;34m)\u001b[0m  \u001b[0;31m# pylint: disable=protected-access\u001b[0m\u001b[0;34m\u001b[0m\u001b[0;34m\u001b[0m\u001b[0m\n\u001b[0m\u001b[1;32m   1224\u001b[0m     \u001b[0;32mreturn\u001b[0m \u001b[0mmaybe_arr\u001b[0m\u001b[0;34m.\u001b[0m\u001b[0mcopy\u001b[0m\u001b[0;34m(\u001b[0m\u001b[0;34m)\u001b[0m \u001b[0;32mif\u001b[0m \u001b[0misinstance\u001b[0m\u001b[0;34m(\u001b[0m\u001b[0mmaybe_arr\u001b[0m\u001b[0;34m,\u001b[0m \u001b[0mnp\u001b[0m\u001b[0;34m.\u001b[0m\u001b[0mndarray\u001b[0m\u001b[0;34m)\u001b[0m \u001b[0;32melse\u001b[0m \u001b[0mmaybe_arr\u001b[0m\u001b[0;34m\u001b[0m\u001b[0;34m\u001b[0m\u001b[0m\n\u001b[1;32m   1225\u001b[0m \u001b[0;34m\u001b[0m\u001b[0m\n",
            "\u001b[0;32m/usr/local/lib/python3.7/dist-packages/tensorflow/python/framework/ops.py\u001b[0m in \u001b[0;36m_numpy\u001b[0;34m(self)\u001b[0m\n\u001b[1;32m   1187\u001b[0m   \u001b[0;32mdef\u001b[0m \u001b[0m_numpy\u001b[0m\u001b[0;34m(\u001b[0m\u001b[0mself\u001b[0m\u001b[0;34m)\u001b[0m\u001b[0;34m:\u001b[0m\u001b[0;34m\u001b[0m\u001b[0;34m\u001b[0m\u001b[0m\n\u001b[1;32m   1188\u001b[0m     \u001b[0;32mtry\u001b[0m\u001b[0;34m:\u001b[0m\u001b[0;34m\u001b[0m\u001b[0;34m\u001b[0m\u001b[0m\n\u001b[0;32m-> 1189\u001b[0;31m       \u001b[0;32mreturn\u001b[0m \u001b[0mself\u001b[0m\u001b[0;34m.\u001b[0m\u001b[0m_numpy_internal\u001b[0m\u001b[0;34m(\u001b[0m\u001b[0;34m)\u001b[0m\u001b[0;34m\u001b[0m\u001b[0;34m\u001b[0m\u001b[0m\n\u001b[0m\u001b[1;32m   1190\u001b[0m     \u001b[0;32mexcept\u001b[0m \u001b[0mcore\u001b[0m\u001b[0;34m.\u001b[0m\u001b[0m_NotOkStatusException\u001b[0m \u001b[0;32mas\u001b[0m \u001b[0me\u001b[0m\u001b[0;34m:\u001b[0m  \u001b[0;31m# pylint: disable=protected-access\u001b[0m\u001b[0;34m\u001b[0m\u001b[0;34m\u001b[0m\u001b[0m\n\u001b[1;32m   1191\u001b[0m       \u001b[0;32mraise\u001b[0m \u001b[0mcore\u001b[0m\u001b[0;34m.\u001b[0m\u001b[0m_status_to_exception\u001b[0m\u001b[0;34m(\u001b[0m\u001b[0me\u001b[0m\u001b[0;34m)\u001b[0m \u001b[0;32mfrom\u001b[0m \u001b[0;32mNone\u001b[0m  \u001b[0;31m# pylint: disable=protected-access\u001b[0m\u001b[0;34m\u001b[0m\u001b[0;34m\u001b[0m\u001b[0m\n",
            "\u001b[0;31mKeyboardInterrupt\u001b[0m: "
          ]
        }
      ]
    },
    {
      "cell_type": "code",
      "source": [
        "\n",
        "import pandas as pd\n",
        "\n",
        "pd.DataFrame(history.history).plot(figsize=(8, 5))\n",
        "plt.grid(True)\n",
        "plt.gca().set_ylim(0, 1)\n",
        "plt.show()\n"
      ],
      "metadata": {
        "colab": {
          "base_uri": "https://localhost:8080/",
          "height": 328
        },
        "id": "R3n4IPz6r9XN",
        "outputId": "69330d76-45ef-457b-d87f-2b62d56613b3"
      },
      "execution_count": null,
      "outputs": [
        {
          "output_type": "display_data",
          "data": {
            "text/plain": [
              "<Figure size 576x360 with 1 Axes>"
            ],
            "image/png": "[encoded data removed]"
          },
          "metadata": {
            "needs_background": "light"
          }
        }
      ]
    },
    {
      "cell_type": "code",
      "source": [
        "model.evaluate(X_test, y_test)"
      ],
      "metadata": {
        "colab": {
          "base_uri": "https://localhost:8080/"
        },
        "id": "NcU5eWN4sbwe",
        "outputId": "9d031275-b5aa-43a7-eed0-a6d96e9f79e7"
      },
      "execution_count": null,
      "outputs": [
        {
          "output_type": "stream",
          "name": "stdout",
          "text": [
            "313/313 [==============================] - 1s 4ms/step - loss: 0.5039 - accuracy: 0.8766\n"
          ]
        },
        {
          "output_type": "execute_result",
          "data": {
            "text/plain": [
              "[0.5039207935333252, 0.8766000270843506]"
            ]
          },
          "metadata": {},
          "execution_count": 38
        }
      ]
    },
    {
      "cell_type": "code",
      "source": [
        "model.compile(loss=\"sparse_categorical_crossentropy\",\n",
        "              optimizer=\"sgd\",\n",
        "              metrics=[\"accuracy\"])\n",
        "history = model.fit(X_train, y_train, batch_size=50, epochs=30,\n",
        "                    validation_data=(X_valid, y_valid))"
      ],
      "metadata": {
        "colab": {
          "base_uri": "https://localhost:8080/"
        },
        "id": "oEEWB28es-dG",
        "outputId": "571692ac-7ad0-43b0-ff55-f2546a32be3b"
      },
      "execution_count": null,
      "outputs": [
        {
          "output_type": "stream",
          "name": "stdout",
          "text": [
            "Epoch 1/30\n",
            "1100/1100 [==============================] - 4s 3ms/step - loss: 0.2123 - accuracy: 0.9241 - val_loss: 0.5064 - val_accuracy: 0.8708\n",
            "Epoch 2/30\n",
            "1100/1100 [==============================] - 3s 3ms/step - loss: 0.2050 - accuracy: 0.9268 - val_loss: 0.5119 - val_accuracy: 0.8796\n",
            "Epoch 3/30\n",
            "1100/1100 [==============================] - 4s 3ms/step - loss: 0.2081 - accuracy: 0.9265 - val_loss: 0.4887 - val_accuracy: 0.8850\n",
            "Epoch 4/30\n",
            "1100/1100 [==============================] - 4s 3ms/step - loss: 0.2061 - accuracy: 0.9264 - val_loss: 0.4541 - val_accuracy: 0.8882\n",
            "Epoch 5/30\n",
            "1100/1100 [==============================] - 4s 3ms/step - loss: 0.2047 - accuracy: 0.9270 - val_loss: 0.5133 - val_accuracy: 0.8790\n",
            "Epoch 6/30\n",
            "1100/1100 [==============================] - 3s 3ms/step - loss: 0.2008 - accuracy: 0.9273 - val_loss: 0.4248 - val_accuracy: 0.8882\n",
            "Epoch 7/30\n",
            "1100/1100 [==============================] - 3s 3ms/step - loss: 0.1951 - accuracy: 0.9300 - val_loss: 0.4702 - val_accuracy: 0.8826\n",
            "Epoch 8/30\n",
            "1100/1100 [==============================] - 3s 3ms/step - loss: 0.1978 - accuracy: 0.9287 - val_loss: 0.4492 - val_accuracy: 0.8850\n",
            "Epoch 9/30\n",
            "1100/1100 [==============================] - 4s 3ms/step - loss: 0.1946 - accuracy: 0.9304 - val_loss: 0.4405 - val_accuracy: 0.8894\n",
            "Epoch 10/30\n",
            "1100/1100 [==============================] - 4s 3ms/step - loss: 0.1880 - accuracy: 0.9325 - val_loss: 0.4342 - val_accuracy: 0.8890\n",
            "Epoch 11/30\n",
            "1100/1100 [==============================] - 3s 3ms/step - loss: 0.1858 - accuracy: 0.9331 - val_loss: 0.4414 - val_accuracy: 0.8850\n",
            "Epoch 12/30\n",
            "1100/1100 [==============================] - 4s 3ms/step - loss: 0.1868 - accuracy: 0.9323 - val_loss: 0.4672 - val_accuracy: 0.8852\n",
            "Epoch 13/30\n",
            "1100/1100 [==============================] - 3s 3ms/step - loss: 0.1849 - accuracy: 0.9334 - val_loss: 0.4587 - val_accuracy: 0.8842\n",
            "Epoch 14/30\n",
            "1100/1100 [==============================] - 4s 3ms/step - loss: 0.1818 - accuracy: 0.9346 - val_loss: 0.4588 - val_accuracy: 0.8856\n",
            "Epoch 15/30\n",
            "1100/1100 [==============================] - 3s 3ms/step - loss: 0.1743 - accuracy: 0.9373 - val_loss: 0.4280 - val_accuracy: 0.8930\n",
            "Epoch 16/30\n",
            "1100/1100 [==============================] - 4s 3ms/step - loss: 0.1842 - accuracy: 0.9331 - val_loss: 0.4451 - val_accuracy: 0.8866\n",
            "Epoch 17/30\n",
            "1100/1100 [==============================] - 3s 3ms/step - loss: 0.1748 - accuracy: 0.9366 - val_loss: 0.4455 - val_accuracy: 0.8948\n",
            "Epoch 18/30\n",
            "1100/1100 [==============================] - 4s 3ms/step - loss: 0.1729 - accuracy: 0.9367 - val_loss: 0.4524 - val_accuracy: 0.8898\n",
            "Epoch 19/30\n",
            "1100/1100 [==============================] - 4s 3ms/step - loss: 0.1733 - accuracy: 0.9362 - val_loss: 0.6703 - val_accuracy: 0.8496\n",
            "Epoch 20/30\n",
            "1100/1100 [==============================] - 4s 3ms/step - loss: 0.1678 - accuracy: 0.9391 - val_loss: 0.4262 - val_accuracy: 0.8934\n",
            "Epoch 21/30\n",
            "1100/1100 [==============================] - 4s 3ms/step - loss: 0.1705 - accuracy: 0.9374 - val_loss: 0.4714 - val_accuracy: 0.8910\n",
            "Epoch 22/30\n",
            "1100/1100 [==============================] - 3s 3ms/step - loss: 0.1687 - accuracy: 0.9386 - val_loss: 0.4553 - val_accuracy: 0.8894\n",
            "Epoch 23/30\n",
            "1100/1100 [==============================] - 4s 3ms/step - loss: 0.1643 - accuracy: 0.9397 - val_loss: 0.4609 - val_accuracy: 0.8848\n",
            "Epoch 24/30\n",
            "1100/1100 [==============================] - 3s 3ms/step - loss: 0.1657 - accuracy: 0.9398 - val_loss: 0.4766 - val_accuracy: 0.8888\n",
            "Epoch 25/30\n",
            "1100/1100 [==============================] - 3s 3ms/step - loss: 0.1612 - accuracy: 0.9413 - val_loss: 0.4597 - val_accuracy: 0.8962\n",
            "Epoch 26/30\n",
            "1100/1100 [==============================] - 3s 3ms/step - loss: 0.1631 - accuracy: 0.9410 - val_loss: 0.4306 - val_accuracy: 0.8938\n",
            "Epoch 27/30\n",
            "1100/1100 [==============================] - 3s 3ms/step - loss: 0.1566 - accuracy: 0.9432 - val_loss: 0.4546 - val_accuracy: 0.8956\n",
            "Epoch 28/30\n",
            "1100/1100 [==============================] - 3s 3ms/step - loss: 0.1580 - accuracy: 0.9420 - val_loss: 0.4787 - val_accuracy: 0.8928\n",
            "Epoch 29/30\n",
            "1100/1100 [==============================] - 3s 3ms/step - loss: 0.1575 - accuracy: 0.9425 - val_loss: 0.4547 - val_accuracy: 0.8954\n",
            "Epoch 30/30\n",
            "1100/1100 [==============================] - 3s 3ms/step - loss: 0.1549 - accuracy: 0.9439 - val_loss: 0.4922 - val_accuracy: 0.8796\n"
          ]
        }
      ]
    },
    {
      "cell_type": "code",
      "source": [
        "\n",
        "import pandas as pd\n",
        "\n",
        "pd.DataFrame(history.history).plot(figsize=(8, 5))\n",
        "plt.grid(True)\n",
        "plt.gca().set_ylim(0, 1)\n",
        "plt.show()\n"
      ],
      "metadata": {
        "colab": {
          "base_uri": "https://localhost:8080/",
          "height": 328
        },
        "id": "6U20dldbtdJ4",
        "outputId": "3d42f3a3-dd78-4714-bc94-d023abb526ec"
      },
      "execution_count": null,
      "outputs": [
        {
          "output_type": "display_data",
          "data": {
            "text/plain": [
              "<Figure size 576x360 with 1 Axes>"
            ],
            "image/png": "[encoded data removed]"
          },
          "metadata": {
            "needs_background": "light"
          }
        }
      ]
    },
    {
      "cell_type": "code",
      "source": [
        "model.evaluate(X_test, y_test)"
      ],
      "metadata": {
        "colab": {
          "base_uri": "https://localhost:8080/"
        },
        "id": "UBaxDo7Ztmtd",
        "outputId": "34859f29-bddf-45e8-ea29-3a7b2c97b624"
      },
      "execution_count": null,
      "outputs": [
        {
          "output_type": "stream",
          "name": "stdout",
          "text": [
            "313/313 [==============================] - 1s 4ms/step - loss: 0.5648 - accuracy: 0.8693\n"
          ]
        },
        {
          "output_type": "execute_result",
          "data": {
            "text/plain": [
              "[0.5647796392440796, 0.8693000078201294]"
            ]
          },
          "metadata": {},
          "execution_count": 42
        }
      ]
    },
    {
      "cell_type": "code",
      "source": [
        "model.compile(loss=\"sparse_categorical_crossentropy\",\n",
        "              optimizer=\"sgd\",\n",
        "              metrics=[\"accuracy\"])\n",
        "history = model.fit(X_train, y_train, batch_size=150, epochs=30,\n",
        "                    validation_data=(X_valid, y_valid))"
      ],
      "metadata": {
        "colab": {
          "base_uri": "https://localhost:8080/"
        },
        "id": "EXRGsfthtoBF",
        "outputId": "1e203fc0-0c7a-4222-f534-71d588f5dc54"
      },
      "execution_count": null,
      "outputs": [
        {
          "output_type": "stream",
          "name": "stdout",
          "text": [
            "Epoch 1/30\n",
            "367/367 [==============================] - 2s 4ms/step - loss: 0.1250 - accuracy: 0.9545 - val_loss: 0.4597 - val_accuracy: 0.8942\n",
            "Epoch 2/30\n",
            "367/367 [==============================] - 1s 4ms/step - loss: 0.1225 - accuracy: 0.9555 - val_loss: 0.4527 - val_accuracy: 0.8964\n",
            "Epoch 3/30\n",
            "367/367 [==============================] - 1s 4ms/step - loss: 0.1216 - accuracy: 0.9563 - val_loss: 0.4506 - val_accuracy: 0.8958\n",
            "Epoch 4/30\n",
            "367/367 [==============================] - 1s 4ms/step - loss: 0.1220 - accuracy: 0.9547 - val_loss: 0.4560 - val_accuracy: 0.8966\n",
            "Epoch 5/30\n",
            "367/367 [==============================] - 1s 4ms/step - loss: 0.1226 - accuracy: 0.9553 - val_loss: 0.5039 - val_accuracy: 0.8856\n",
            "Epoch 6/30\n",
            "367/367 [==============================] - 1s 4ms/step - loss: 0.1209 - accuracy: 0.9561 - val_loss: 0.4596 - val_accuracy: 0.8930\n",
            "Epoch 7/30\n",
            "367/367 [==============================] - 1s 4ms/step - loss: 0.1214 - accuracy: 0.9553 - val_loss: 0.4651 - val_accuracy: 0.8954\n",
            "Epoch 8/30\n",
            "367/367 [==============================] - 1s 4ms/step - loss: 0.1207 - accuracy: 0.9551 - val_loss: 0.4718 - val_accuracy: 0.8944\n",
            "Epoch 9/30\n",
            "367/367 [==============================] - 1s 4ms/step - loss: 0.1197 - accuracy: 0.9559 - val_loss: 0.4651 - val_accuracy: 0.8968\n",
            "Epoch 10/30\n",
            "367/367 [==============================] - 1s 4ms/step - loss: 0.1194 - accuracy: 0.9568 - val_loss: 0.4658 - val_accuracy: 0.8976\n",
            "Epoch 11/30\n",
            "367/367 [==============================] - 1s 4ms/step - loss: 0.1195 - accuracy: 0.9559 - val_loss: 0.4553 - val_accuracy: 0.8972\n",
            "Epoch 12/30\n",
            "367/367 [==============================] - 1s 4ms/step - loss: 0.1193 - accuracy: 0.9562 - val_loss: 0.4904 - val_accuracy: 0.8906\n",
            "Epoch 13/30\n",
            "367/367 [==============================] - 1s 4ms/step - loss: 0.1163 - accuracy: 0.9576 - val_loss: 0.5058 - val_accuracy: 0.8884\n",
            "Epoch 14/30\n",
            "367/367 [==============================] - 2s 4ms/step - loss: 0.1179 - accuracy: 0.9571 - val_loss: 0.4614 - val_accuracy: 0.8956\n",
            "Epoch 15/30\n",
            "367/367 [==============================] - 1s 4ms/step - loss: 0.1174 - accuracy: 0.9576 - val_loss: 0.4596 - val_accuracy: 0.8970\n",
            "Epoch 16/30\n",
            "367/367 [==============================] - 1s 4ms/step - loss: 0.1188 - accuracy: 0.9562 - val_loss: 0.4664 - val_accuracy: 0.8960\n",
            "Epoch 17/30\n",
            "367/367 [==============================] - 1s 4ms/step - loss: 0.1182 - accuracy: 0.9569 - val_loss: 0.4814 - val_accuracy: 0.8932\n",
            "Epoch 18/30\n",
            "367/367 [==============================] - 1s 4ms/step - loss: 0.1172 - accuracy: 0.9576 - val_loss: 0.4796 - val_accuracy: 0.8934\n",
            "Epoch 19/30\n",
            "367/367 [==============================] - 1s 4ms/step - loss: 0.1166 - accuracy: 0.9571 - val_loss: 0.4710 - val_accuracy: 0.8922\n",
            "Epoch 20/30\n",
            "367/367 [==============================] - 1s 4ms/step - loss: 0.1163 - accuracy: 0.9571 - val_loss: 0.4768 - val_accuracy: 0.8940\n",
            "Epoch 21/30\n",
            "367/367 [==============================] - 2s 4ms/step - loss: 0.1161 - accuracy: 0.9571 - val_loss: 0.4539 - val_accuracy: 0.8974\n",
            "Epoch 22/30\n",
            "367/367 [==============================] - 1s 4ms/step - loss: 0.1153 - accuracy: 0.9573 - val_loss: 0.4722 - val_accuracy: 0.8964\n",
            "Epoch 23/30\n",
            "367/367 [==============================] - 1s 4ms/step - loss: 0.1139 - accuracy: 0.9587 - val_loss: 0.4781 - val_accuracy: 0.8936\n",
            "Epoch 24/30\n",
            "367/367 [==============================] - 1s 4ms/step - loss: 0.1151 - accuracy: 0.9583 - val_loss: 0.4841 - val_accuracy: 0.8936\n",
            "Epoch 25/30\n",
            "367/367 [==============================] - 1s 4ms/step - loss: 0.1151 - accuracy: 0.9574 - val_loss: 0.4817 - val_accuracy: 0.8934\n",
            "Epoch 26/30\n",
            "367/367 [==============================] - 1s 4ms/step - loss: 0.1139 - accuracy: 0.9583 - val_loss: 0.4842 - val_accuracy: 0.8940\n",
            "Epoch 27/30\n",
            "367/367 [==============================] - 1s 4ms/step - loss: 0.1135 - accuracy: 0.9583 - val_loss: 0.4782 - val_accuracy: 0.8968\n",
            "Epoch 28/30\n",
            "367/367 [==============================] - 2s 4ms/step - loss: 0.1132 - accuracy: 0.9582 - val_loss: 0.4923 - val_accuracy: 0.8926\n",
            "Epoch 29/30\n",
            "367/367 [==============================] - 1s 4ms/step - loss: 0.1135 - accuracy: 0.9588 - val_loss: 0.4925 - val_accuracy: 0.8898\n",
            "Epoch 30/30\n",
            "367/367 [==============================] - 1s 4ms/step - loss: 0.1144 - accuracy: 0.9581 - val_loss: 0.4848 - val_accuracy: 0.8956\n"
          ]
        }
      ]
    },
    {
      "cell_type": "code",
      "source": [
        "import pandas as pd\n",
        "\n",
        "pd.DataFrame(history.history).plot(figsize=(8, 5))\n",
        "plt.grid(True)\n",
        "plt.gca().set_ylim(0, 1)\n",
        "plt.show()"
      ],
      "metadata": {
        "colab": {
          "base_uri": "https://localhost:8080/",
          "height": 235
        },
        "id": "Qdgu3-F48OMH",
        "outputId": "fccebd8e-1c62-47a0-a4a0-40a305320290"
      },
      "execution_count": null,
      "outputs": [
        {
          "output_type": "error",
          "ename": "NameError",
          "evalue": "ignored",
          "traceback": [
            "\u001b[0;31m---------------------------------------------------------------------------\u001b[0m",
            "\u001b[0;31mNameError\u001b[0m                                 Traceback (most recent call last)",
            "\u001b[0;32m<ipython-input-2-89dd50e5091e>\u001b[0m in \u001b[0;36m<module>\u001b[0;34m()\u001b[0m\n\u001b[1;32m      1\u001b[0m \u001b[0;32mimport\u001b[0m \u001b[0mpandas\u001b[0m \u001b[0;32mas\u001b[0m \u001b[0mpd\u001b[0m\u001b[0;34m\u001b[0m\u001b[0;34m\u001b[0m\u001b[0m\n\u001b[1;32m      2\u001b[0m \u001b[0;34m\u001b[0m\u001b[0m\n\u001b[0;32m----> 3\u001b[0;31m \u001b[0mpd\u001b[0m\u001b[0;34m.\u001b[0m\u001b[0mDataFrame\u001b[0m\u001b[0;34m(\u001b[0m\u001b[0mhistory\u001b[0m\u001b[0;34m.\u001b[0m\u001b[0mhistory\u001b[0m\u001b[0;34m)\u001b[0m\u001b[0;34m.\u001b[0m\u001b[0mplot\u001b[0m\u001b[0;34m(\u001b[0m\u001b[0mfigsize\u001b[0m\u001b[0;34m=\u001b[0m\u001b[0;34m(\u001b[0m\u001b[0;36m8\u001b[0m\u001b[0;34m,\u001b[0m \u001b[0;36m5\u001b[0m\u001b[0;34m)\u001b[0m\u001b[0;34m)\u001b[0m\u001b[0;34m\u001b[0m\u001b[0;34m\u001b[0m\u001b[0m\n\u001b[0m\u001b[1;32m      4\u001b[0m \u001b[0mplt\u001b[0m\u001b[0;34m.\u001b[0m\u001b[0mgrid\u001b[0m\u001b[0;34m(\u001b[0m\u001b[0;32mTrue\u001b[0m\u001b[0;34m)\u001b[0m\u001b[0;34m\u001b[0m\u001b[0;34m\u001b[0m\u001b[0m\n\u001b[1;32m      5\u001b[0m \u001b[0mplt\u001b[0m\u001b[0;34m.\u001b[0m\u001b[0mgca\u001b[0m\u001b[0;34m(\u001b[0m\u001b[0;34m)\u001b[0m\u001b[0;34m.\u001b[0m\u001b[0mset_ylim\u001b[0m\u001b[0;34m(\u001b[0m\u001b[0;36m0\u001b[0m\u001b[0;34m,\u001b[0m \u001b[0;36m1\u001b[0m\u001b[0;34m)\u001b[0m\u001b[0;34m\u001b[0m\u001b[0;34m\u001b[0m\u001b[0m\n",
            "\u001b[0;31mNameError\u001b[0m: name 'history' is not defined"
          ]
        }
      ]
    }
  ],
  "metadata": {
    "kernelspec": {
      "display_name": "Python 3",
      "language": "python",
      "name": "python3"
    },
    "language_info": {
      "codemirror_mode": {
        "name": "ipython",
        "version": 3
      },
      "file_extension": ".py",
      "mimetype": "text/x-python",
      "name": "python",
      "nbconvert_exporter": "python",
      "pygments_lexer": "ipython3",
      "version": "3.6.1"
    },
    "nav_menu": {
      "height": "264px",
      "width": "369px"
    },
    "toc": {
      "navigate_menu": true,
      "number_sections": true,
      "sideBar": true,
      "threshold": 6,
      "toc_cell": false,
      "toc_section_display": "block",
      "toc_window_display": false
    },
    "colab": {
      "name": "Copie de ANN_with_keras.ipynb",
      "provenance": [],
      "collapsed_sections": []
    },
    "accelerator": "GPU"
  },
  "nbformat": 4,
  "nbformat_minor": 0
}